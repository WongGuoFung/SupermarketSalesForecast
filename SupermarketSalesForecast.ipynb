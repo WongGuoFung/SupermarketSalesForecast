{
 "cells": [
  {
   "cell_type": "markdown",
   "metadata": {},
   "source": [
    "## Contents <a id=\"top\"></a>\n",
    "### [Step 0: Exploratory Data Analysis (EDA)](#step0)\n",
    "### [Step 1: Load Data into Jupyter Notebook](#step1)\n",
    "### [Step 2: Data Preprocessing ](#step2)\n",
    "### [Step 3: Train and Test Split](#step3)\n",
    "### [Step 4: Missing Value Imputation](#step4)\n",
    "### [Step 5: Categorical Data Encoding](#step5)\n",
    "### [Step 6: Variable Discretization /Binning](#step6)\n",
    "### [Step 7: Feature Engineer](#step7)\n",
    "### [Step 8: Linear Regression Model](#step8)\n",
    "\n",
    "<hr>\n",
    "\n",
    "## Report \n",
    "### [1. Introduction](#part1.)\n",
    "   - [1.1. Introduction: Problem Understanding](#part1.1.) \n",
    "   \n",
    "### [2. Explore the Data](#part2.)\n",
    "   - [2.1. Relationship between Outlet Location Type and Outlet Sales](#part2.1.) \n",
    "   - [2.2. Relationship between Item Type and Item Outlet Sales ](#part2.2.) \n",
    "   - [2.3. Relationship between Item Visibility and Item Outlet Sales ](#part2.3.)\n",
    "   - [2.4. Relationship between Outlet Type & Outlet Identifer and Item Outlet Sales](#part2.4.)\n",
    "   - [2.5. Relationship between Item Outlet Sales and Outlet Establishment Year](#part2.5.)\n",
    "   - [2.6. Relationship between Item Outlet Sales and Item Weight ](#part2.6.)    \n",
    "\n",
    "### [3. Cleanse the Data](#part3.)\n",
    "   - [3.1. Outliers](#part3.1.) \n",
    "      - [3.1.1. Finding Outliers](#part3.1.1.) \n",
    "      - [3.1.2. Dealing with Outliers](#part3.1.2.) \n",
    "      \n",
    "      \n",
    "   - [3.2. Missing Data](#part3.2.) \n",
    "      - [3.2.1. Finding Missing Data](#part3.2.1.) \n",
    "      - [3.2.2. Dealing with Missing Data](#part3.2.2.) \n",
    "\n",
    "### [4. Data Transformation](#part4.)\n",
    "   - [4.1. Categorical Data](#part4.1.)\n",
    "      - [4.1.1. Ordinal Encoding](#part4.1.1.)    \n",
    "      - [4.1.2. One Hot Encoding](#part4.1.2.)    \n",
    "      - [4.1.3. One Hot Encoding for Top Categories](#part4.1.3.) \n",
    "\n",
    "\n",
    "   - [4.2. Numerical Data](#part4.2.)\n",
    "      - [4.2.1. Item Weight Transformation](#part4.2.1.)    \n",
    "      - [4.2.2. Item Visibility Transformation](#part4.2.2.)    \n",
    "      - [4.2.3. Item MRP Transformation](#part4.2.3.) \n",
    "      - [4.2.4. Outlet Establishment Year Binning](#part4.2.4.) \n",
    "      - [4.2.5. Item Weight Binning ](#part4.2.5.) \n",
    "      \n",
    "### [5. Feature Engineer](#part5.)\n",
    "   - [5.1. Feature Scaling](#part5.1.)\n",
    "   - [5.2. Create new features /Drop features](#part5.2.)\n",
    "      - [5.2.1. Principal Component Analysis (PCA) ](#part5.2.1.) \n",
    "      \n",
    "### [6. Linear Regression Model](#part6.)      \n",
    "   - [6.1. Build and Evaluate the model](#part6.1.)  \n",
    "   \n",
    "### [7. Summary and Further Improvements](#part7.)      \n",
    "   - [7.1. Summarize findings](#part7.1.)     \n",
    "   - [7.2. Explain possible further improvements](#part7.2.)      \n"
   ]
  },
  {
   "cell_type": "code",
   "execution_count": 1,
   "metadata": {},
   "outputs": [],
   "source": [
    "# import the pacakges\n",
    "import pandas as pd\n",
    "import numpy as np\n",
    "\n",
    "# for plotting\n",
    "import matplotlib.pyplot as plt\n",
    "import seaborn as sns\n",
    "\n",
    "# for Q-Q plots\n",
    "import scipy.stats as stats\n",
    "\n",
    "# Dealing with outliers\n",
    "from feature_engine.outliers import Winsorizer\n",
    "\n",
    "# Transforming numerical variables \n",
    "from feature_engine.transformation import LogTransformer\n",
    "from feature_engine.transformation import PowerTransformer\n",
    "from feature_engine.transformation import ReciprocalTransformer\n",
    "from feature_engine.transformation import BoxCoxTransformer\n",
    "from feature_engine.transformation import YeoJohnsonTransformer\n",
    "\n",
    "# to split the data sets\n",
    "from sklearn.model_selection import train_test_split\n",
    "\n",
    "# to impute missing data with feature-engine\n",
    "from feature_engine.imputation import MeanMedianImputer\n",
    "\n",
    "from sklearn.pipeline import Pipeline\n",
    "import feature_engine.imputation as mdi\n",
    "\n",
    "# for encoding with feature-engine\n",
    "from feature_engine.encoding import OrdinalEncoder\n",
    "from feature_engine.encoding import MeanEncoder\n",
    "from feature_engine.encoding import OneHotEncoder\n",
    "\n",
    "from feature_engine.encoding import CountFrequencyEncoder\n",
    "# for discretization\n",
    "from feature_engine.discretisation import EqualWidthDiscretiser\n",
    "from feature_engine.discretisation import EqualFrequencyDiscretiser\n",
    "\n",
    "# the scaler - for standardization\n",
    "from sklearn.preprocessing import StandardScaler\n",
    "# the scalers - for mean normalisation\n",
    "from sklearn.preprocessing import RobustScaler\n",
    "# the scaler - for min-max scaling\n",
    "from sklearn.preprocessing import MinMaxScaler\n",
    "# the scaler - for MaxAbsScaling, with centering\n",
    "from sklearn.preprocessing import MaxAbsScaler"
   ]
  },
  {
   "cell_type": "markdown",
   "metadata": {},
   "source": [
    "### Step 0: Exploratory Data Analysis (EDA) <a id=\"step0\"></a>\n",
    "Investingating/Finding relationships between different variables. Detailed EDA in Report.\n",
    "#### [To - 2. Explore the Data](#part2.)"
   ]
  },
  {
   "cell_type": "markdown",
   "metadata": {},
   "source": [
    "### Step 1: Load Data into Jupyter Notebook <a id=\"step1\"></a>\n",
    "[Back to Top](#top)"
   ]
  },
  {
   "cell_type": "code",
   "execution_count": 2,
   "metadata": {},
   "outputs": [],
   "source": [
    "data = pd.read_csv(\"./data/supermarket.csv\")"
   ]
  },
  {
   "cell_type": "code",
   "execution_count": 3,
   "metadata": {},
   "outputs": [],
   "source": [
    "# data_backup is orginal data\n",
    "data_backup = data.copy()"
   ]
  },
  {
   "cell_type": "code",
   "execution_count": 4,
   "metadata": {},
   "outputs": [
    {
     "name": "stdout",
     "output_type": "stream",
     "text": [
      "<class 'pandas.core.frame.DataFrame'>\n",
      "RangeIndex: 8523 entries, 0 to 8522\n",
      "Data columns (total 12 columns):\n",
      " #   Column                     Non-Null Count  Dtype  \n",
      "---  ------                     --------------  -----  \n",
      " 0   Item_Identifier            8523 non-null   object \n",
      " 1   Item_Weight                7060 non-null   float64\n",
      " 2   Item_Fat_Content           8523 non-null   object \n",
      " 3   Item_Visibility            8523 non-null   float64\n",
      " 4   Item_Type                  8523 non-null   object \n",
      " 5   Item_MRP                   8523 non-null   float64\n",
      " 6   Outlet_Identifier          8523 non-null   object \n",
      " 7   Outlet_Establishment_Year  8523 non-null   int64  \n",
      " 8   Outlet_Size                6113 non-null   object \n",
      " 9   Outlet_Location_Type       8523 non-null   object \n",
      " 10  Outlet_Type                8523 non-null   object \n",
      " 11  Item_Outlet_Sales          8523 non-null   float64\n",
      "dtypes: float64(4), int64(1), object(7)\n",
      "memory usage: 799.2+ KB\n"
     ]
    }
   ],
   "source": [
    "data.info()"
   ]
  },
  {
   "cell_type": "code",
   "execution_count": 5,
   "metadata": {},
   "outputs": [
    {
     "data": {
      "text/html": [
       "<div>\n",
       "<style scoped>\n",
       "    .dataframe tbody tr th:only-of-type {\n",
       "        vertical-align: middle;\n",
       "    }\n",
       "\n",
       "    .dataframe tbody tr th {\n",
       "        vertical-align: top;\n",
       "    }\n",
       "\n",
       "    .dataframe thead th {\n",
       "        text-align: right;\n",
       "    }\n",
       "</style>\n",
       "<table border=\"1\" class=\"dataframe\">\n",
       "  <thead>\n",
       "    <tr style=\"text-align: right;\">\n",
       "      <th></th>\n",
       "      <th>Item_Identifier</th>\n",
       "      <th>Item_Weight</th>\n",
       "      <th>Item_Fat_Content</th>\n",
       "      <th>Item_Visibility</th>\n",
       "      <th>Item_Type</th>\n",
       "      <th>Item_MRP</th>\n",
       "      <th>Outlet_Identifier</th>\n",
       "      <th>Outlet_Establishment_Year</th>\n",
       "      <th>Outlet_Size</th>\n",
       "      <th>Outlet_Location_Type</th>\n",
       "      <th>Outlet_Type</th>\n",
       "      <th>Item_Outlet_Sales</th>\n",
       "    </tr>\n",
       "  </thead>\n",
       "  <tbody>\n",
       "    <tr>\n",
       "      <th>0</th>\n",
       "      <td>FDA15</td>\n",
       "      <td>9.30</td>\n",
       "      <td>Low Fat</td>\n",
       "      <td>0.016047</td>\n",
       "      <td>Dairy</td>\n",
       "      <td>249.8092</td>\n",
       "      <td>OUT049</td>\n",
       "      <td>1999</td>\n",
       "      <td>Medium</td>\n",
       "      <td>Tier 1</td>\n",
       "      <td>Supermarket Type1</td>\n",
       "      <td>3735.1380</td>\n",
       "    </tr>\n",
       "    <tr>\n",
       "      <th>1</th>\n",
       "      <td>DRC01</td>\n",
       "      <td>5.92</td>\n",
       "      <td>Regular</td>\n",
       "      <td>0.019278</td>\n",
       "      <td>Soft Drinks</td>\n",
       "      <td>48.2692</td>\n",
       "      <td>OUT018</td>\n",
       "      <td>2009</td>\n",
       "      <td>Medium</td>\n",
       "      <td>Tier 3</td>\n",
       "      <td>Supermarket Type2</td>\n",
       "      <td>443.4228</td>\n",
       "    </tr>\n",
       "    <tr>\n",
       "      <th>2</th>\n",
       "      <td>FDN15</td>\n",
       "      <td>17.50</td>\n",
       "      <td>Low Fat</td>\n",
       "      <td>0.016760</td>\n",
       "      <td>Meat</td>\n",
       "      <td>141.6180</td>\n",
       "      <td>OUT049</td>\n",
       "      <td>1999</td>\n",
       "      <td>Medium</td>\n",
       "      <td>Tier 1</td>\n",
       "      <td>Supermarket Type1</td>\n",
       "      <td>2097.2700</td>\n",
       "    </tr>\n",
       "    <tr>\n",
       "      <th>3</th>\n",
       "      <td>FDX07</td>\n",
       "      <td>19.20</td>\n",
       "      <td>Regular</td>\n",
       "      <td>0.000000</td>\n",
       "      <td>Fruits and Vegetables</td>\n",
       "      <td>182.0950</td>\n",
       "      <td>OUT010</td>\n",
       "      <td>1998</td>\n",
       "      <td>NaN</td>\n",
       "      <td>Tier 3</td>\n",
       "      <td>Grocery Store</td>\n",
       "      <td>732.3800</td>\n",
       "    </tr>\n",
       "    <tr>\n",
       "      <th>4</th>\n",
       "      <td>NCD19</td>\n",
       "      <td>8.93</td>\n",
       "      <td>Low Fat</td>\n",
       "      <td>0.000000</td>\n",
       "      <td>Household</td>\n",
       "      <td>53.8614</td>\n",
       "      <td>OUT013</td>\n",
       "      <td>1987</td>\n",
       "      <td>High</td>\n",
       "      <td>Tier 3</td>\n",
       "      <td>Supermarket Type1</td>\n",
       "      <td>994.7052</td>\n",
       "    </tr>\n",
       "  </tbody>\n",
       "</table>\n",
       "</div>"
      ],
      "text/plain": [
       "  Item_Identifier  Item_Weight Item_Fat_Content  Item_Visibility  \\\n",
       "0           FDA15         9.30          Low Fat         0.016047   \n",
       "1           DRC01         5.92          Regular         0.019278   \n",
       "2           FDN15        17.50          Low Fat         0.016760   \n",
       "3           FDX07        19.20          Regular         0.000000   \n",
       "4           NCD19         8.93          Low Fat         0.000000   \n",
       "\n",
       "               Item_Type  Item_MRP Outlet_Identifier  \\\n",
       "0                  Dairy  249.8092            OUT049   \n",
       "1            Soft Drinks   48.2692            OUT018   \n",
       "2                   Meat  141.6180            OUT049   \n",
       "3  Fruits and Vegetables  182.0950            OUT010   \n",
       "4              Household   53.8614            OUT013   \n",
       "\n",
       "   Outlet_Establishment_Year Outlet_Size Outlet_Location_Type  \\\n",
       "0                       1999      Medium               Tier 1   \n",
       "1                       2009      Medium               Tier 3   \n",
       "2                       1999      Medium               Tier 1   \n",
       "3                       1998         NaN               Tier 3   \n",
       "4                       1987        High               Tier 3   \n",
       "\n",
       "         Outlet_Type  Item_Outlet_Sales  \n",
       "0  Supermarket Type1          3735.1380  \n",
       "1  Supermarket Type2           443.4228  \n",
       "2  Supermarket Type1          2097.2700  \n",
       "3      Grocery Store           732.3800  \n",
       "4  Supermarket Type1           994.7052  "
      ]
     },
     "execution_count": 5,
     "metadata": {},
     "output_type": "execute_result"
    }
   ],
   "source": [
    "data.head()"
   ]
  },
  {
   "cell_type": "code",
   "execution_count": 6,
   "metadata": {},
   "outputs": [
    {
     "data": {
      "text/html": [
       "<div>\n",
       "<style scoped>\n",
       "    .dataframe tbody tr th:only-of-type {\n",
       "        vertical-align: middle;\n",
       "    }\n",
       "\n",
       "    .dataframe tbody tr th {\n",
       "        vertical-align: top;\n",
       "    }\n",
       "\n",
       "    .dataframe thead th {\n",
       "        text-align: right;\n",
       "    }\n",
       "</style>\n",
       "<table border=\"1\" class=\"dataframe\">\n",
       "  <thead>\n",
       "    <tr style=\"text-align: right;\">\n",
       "      <th></th>\n",
       "      <th>Item_Weight</th>\n",
       "      <th>Item_Visibility</th>\n",
       "      <th>Item_MRP</th>\n",
       "      <th>Outlet_Establishment_Year</th>\n",
       "      <th>Item_Outlet_Sales</th>\n",
       "    </tr>\n",
       "  </thead>\n",
       "  <tbody>\n",
       "    <tr>\n",
       "      <th>count</th>\n",
       "      <td>7060.000000</td>\n",
       "      <td>8523.000000</td>\n",
       "      <td>8523.000000</td>\n",
       "      <td>8523.000000</td>\n",
       "      <td>8523.000000</td>\n",
       "    </tr>\n",
       "    <tr>\n",
       "      <th>mean</th>\n",
       "      <td>12.857645</td>\n",
       "      <td>0.066132</td>\n",
       "      <td>140.992782</td>\n",
       "      <td>1997.831867</td>\n",
       "      <td>2181.288914</td>\n",
       "    </tr>\n",
       "    <tr>\n",
       "      <th>std</th>\n",
       "      <td>4.643456</td>\n",
       "      <td>0.051598</td>\n",
       "      <td>62.275067</td>\n",
       "      <td>8.371760</td>\n",
       "      <td>1706.499616</td>\n",
       "    </tr>\n",
       "    <tr>\n",
       "      <th>min</th>\n",
       "      <td>4.555000</td>\n",
       "      <td>0.000000</td>\n",
       "      <td>31.290000</td>\n",
       "      <td>1985.000000</td>\n",
       "      <td>33.290000</td>\n",
       "    </tr>\n",
       "    <tr>\n",
       "      <th>25%</th>\n",
       "      <td>8.773750</td>\n",
       "      <td>0.026989</td>\n",
       "      <td>93.826500</td>\n",
       "      <td>1987.000000</td>\n",
       "      <td>834.247400</td>\n",
       "    </tr>\n",
       "    <tr>\n",
       "      <th>50%</th>\n",
       "      <td>12.600000</td>\n",
       "      <td>0.053931</td>\n",
       "      <td>143.012800</td>\n",
       "      <td>1999.000000</td>\n",
       "      <td>1794.331000</td>\n",
       "    </tr>\n",
       "    <tr>\n",
       "      <th>75%</th>\n",
       "      <td>16.850000</td>\n",
       "      <td>0.094585</td>\n",
       "      <td>185.643700</td>\n",
       "      <td>2004.000000</td>\n",
       "      <td>3101.296400</td>\n",
       "    </tr>\n",
       "    <tr>\n",
       "      <th>max</th>\n",
       "      <td>21.350000</td>\n",
       "      <td>0.328391</td>\n",
       "      <td>266.888400</td>\n",
       "      <td>2009.000000</td>\n",
       "      <td>13086.964800</td>\n",
       "    </tr>\n",
       "  </tbody>\n",
       "</table>\n",
       "</div>"
      ],
      "text/plain": [
       "       Item_Weight  Item_Visibility     Item_MRP  Outlet_Establishment_Year  \\\n",
       "count  7060.000000      8523.000000  8523.000000                8523.000000   \n",
       "mean     12.857645         0.066132   140.992782                1997.831867   \n",
       "std       4.643456         0.051598    62.275067                   8.371760   \n",
       "min       4.555000         0.000000    31.290000                1985.000000   \n",
       "25%       8.773750         0.026989    93.826500                1987.000000   \n",
       "50%      12.600000         0.053931   143.012800                1999.000000   \n",
       "75%      16.850000         0.094585   185.643700                2004.000000   \n",
       "max      21.350000         0.328391   266.888400                2009.000000   \n",
       "\n",
       "       Item_Outlet_Sales  \n",
       "count        8523.000000  \n",
       "mean         2181.288914  \n",
       "std          1706.499616  \n",
       "min            33.290000  \n",
       "25%           834.247400  \n",
       "50%          1794.331000  \n",
       "75%          3101.296400  \n",
       "max         13086.964800  "
      ]
     },
     "execution_count": 6,
     "metadata": {},
     "output_type": "execute_result"
    }
   ],
   "source": [
    "data.describe()"
   ]
  },
  {
   "cell_type": "markdown",
   "metadata": {},
   "source": [
    "### Step 2: Data Preprocessing <a id=\"step2\"></a>\n",
    "[Back to Top](#top)"
   ]
  },
  {
   "cell_type": "markdown",
   "metadata": {},
   "source": [
    "### Finding and Dealing with Outliers"
   ]
  },
  {
   "cell_type": "code",
   "execution_count": 7,
   "metadata": {
    "scrolled": true
   },
   "outputs": [],
   "source": [
    "#Finding Outlier for numerical variables in dataset\n",
    "def find_boundaries(df, variable):\n",
    "\n",
    "    # distance passed as an argument, gives us the option to\n",
    "    # estimate 1.5 times or 3 times the IQR to calculate\n",
    "    # the boundaries.\n",
    "\n",
    "    IQR = df[variable].quantile(0.75) - df[variable].quantile(0.25) #Finding the IQR using .quantile(.75 and .25)\n",
    "\n",
    "    lower_boundary = df[variable].quantile(0.25) - (IQR * 1.5) #Formula \n",
    "    upper_boundary = df[variable].quantile(0.75) + (IQR * 1.5)\n",
    "\n",
    "    return upper_boundary, lower_boundary"
   ]
  },
  {
   "cell_type": "code",
   "execution_count": 8,
   "metadata": {},
   "outputs": [
    {
     "data": {
      "text/plain": [
       "186"
      ]
     },
     "execution_count": 8,
     "metadata": {},
     "output_type": "execute_result"
    }
   ],
   "source": [
    "upper_boundary, lower_boundary = find_boundaries(data, 'Item_Outlet_Sales')\n",
    "outliers = np.where(data['Item_Outlet_Sales'] > upper_boundary, True,\n",
    "                    np.where(data['Item_Outlet_Sales'] < lower_boundary, True, False))\n",
    "outliers.sum() # Outliers found , but will not do capping/trimming to target"
   ]
  },
  {
   "cell_type": "code",
   "execution_count": 9,
   "metadata": {},
   "outputs": [
    {
     "data": {
      "text/plain": [
       "144"
      ]
     },
     "execution_count": 9,
     "metadata": {},
     "output_type": "execute_result"
    }
   ],
   "source": [
    "upper_boundary, lower_boundary = find_boundaries(data, 'Item_Visibility')\n",
    "outliers = np.where(data['Item_Visibility'] > upper_boundary, True,\n",
    "                    np.where(data['Item_Visibility'] < lower_boundary, True, False))\n",
    "outliers.sum()"
   ]
  },
  {
   "cell_type": "code",
   "execution_count": 10,
   "metadata": {},
   "outputs": [
    {
     "data": {
      "text/plain": [
       "0"
      ]
     },
     "execution_count": 10,
     "metadata": {},
     "output_type": "execute_result"
    }
   ],
   "source": [
    "upper_boundary, lower_boundary = find_boundaries(data, 'Item_MRP')\n",
    "outliers = np.where(data['Item_MRP'] > upper_boundary, True,\n",
    "                    np.where(data['Item_MRP'] < lower_boundary, True, False))\n",
    "outliers.sum()"
   ]
  },
  {
   "cell_type": "code",
   "execution_count": 11,
   "metadata": {},
   "outputs": [
    {
     "data": {
      "text/plain": [
       "0"
      ]
     },
     "execution_count": 11,
     "metadata": {},
     "output_type": "execute_result"
    }
   ],
   "source": [
    "upper_boundary, lower_boundary = find_boundaries(data, 'Item_Weight')\n",
    "outliers = np.where(data['Item_Weight'] > upper_boundary, True,\n",
    "                    np.where(data['Item_Weight'] < lower_boundary, True, False))\n",
    "outliers.sum()"
   ]
  },
  {
   "cell_type": "code",
   "execution_count": 12,
   "metadata": {},
   "outputs": [
    {
     "data": {
      "text/plain": [
       "0"
      ]
     },
     "execution_count": 12,
     "metadata": {},
     "output_type": "execute_result"
    }
   ],
   "source": [
    "upper_boundary, lower_boundary = find_boundaries(data, 'Outlet_Establishment_Year')\n",
    "outliers = np.where(data['Outlet_Establishment_Year'] > upper_boundary, True,\n",
    "                    np.where(data['Outlet_Establishment_Year'] < lower_boundary, True, False))\n",
    "outliers.sum()"
   ]
  },
  {
   "cell_type": "code",
   "execution_count": 13,
   "metadata": {},
   "outputs": [],
   "source": [
    "def diagnostic_plots(df, variable):\n",
    "    # function takes a dataframe (df) and\n",
    "    # the variable of interest as arguments\n",
    "\n",
    "    # define figure size\n",
    "    plt.figure(figsize=(16, 4))\n",
    "\n",
    "    # histogram\n",
    "    plt.subplot(1, 3, 1)\n",
    "    sns.histplot(df[variable], bins=30, kde=True)\n",
    "    plt.title('Histogram')\n",
    "\n",
    "    # Q-Q plot\n",
    "    plt.subplot(1, 3, 2)\n",
    "    stats.probplot(df[variable], dist=\"norm\", plot=plt)\n",
    "    plt.ylabel(\"\\n\" + variable + \" quantities\")\n",
    "\n",
    "    # boxplot\n",
    "    plt.subplot(1, 3, 3)\n",
    "    sns.boxplot(y=df[variable])\n",
    "    plt.title('Boxplot')\n",
    "\n",
    "    plt.show()"
   ]
  },
  {
   "cell_type": "code",
   "execution_count": 14,
   "metadata": {
    "scrolled": false
   },
   "outputs": [
    {
     "data": {
      "image/png": "[encoded data removed]",
      "text/plain": [
       "<Figure size 1152x288 with 3 Axes>"
      ]
     },
     "metadata": {
      "needs_background": "light"
     },
     "output_type": "display_data"
    }
   ],
   "source": [
    "# Before \n",
    "diagnostic_plots(data, 'Item_Visibility')"
   ]
  },
  {
   "cell_type": "code",
   "execution_count": 15,
   "metadata": {},
   "outputs": [],
   "source": [
    "# Trimming\n",
    "upper_boundary, lower_boundary = find_boundaries(data, 'Item_Visibility')\n",
    "outliers_Visibility = np.where(data['Item_Visibility'] > upper_boundary, True,\n",
    "                    np.where(data['Item_Visibility'] < lower_boundary, True, False))\n",
    "\n",
    "data = data.loc[~outliers_Visibility] # Overwriting data"
   ]
  },
  {
   "cell_type": "code",
   "execution_count": 16,
   "metadata": {},
   "outputs": [
    {
     "data": {
      "image/png": "[encoded data removed]",
      "text/plain": [
       "<Figure size 1152x288 with 3 Axes>"
      ]
     },
     "metadata": {
      "needs_background": "light"
     },
     "output_type": "display_data"
    }
   ],
   "source": [
    "# After \n",
    "diagnostic_plots(data, 'Item_Visibility')"
   ]
  },
  {
   "cell_type": "markdown",
   "metadata": {},
   "source": [
    "### Distribution of Numerical Variables\n",
    "[Back to Top](#top)"
   ]
  },
  {
   "cell_type": "code",
   "execution_count": 17,
   "metadata": {
    "scrolled": false
   },
   "outputs": [
    {
     "data": {
      "image/png": "[encoded data removed]",
      "text/plain": [
       "<Figure size 864x864 with 6 Axes>"
      ]
     },
     "metadata": {
      "needs_background": "light"
     },
     "output_type": "display_data"
    }
   ],
   "source": [
    "overviewOfNumCols = data.hist(bins=30, figsize=(12,12))\n",
    "plt.show()"
   ]
  },
  {
   "cell_type": "code",
   "execution_count": 18,
   "metadata": {},
   "outputs": [],
   "source": [
    "def diagnostic_plots_hist_qq(df, variable):\n",
    "    \n",
    "    # function to plot a histogram and a Q-Q plot\n",
    "    # side by side, for a certain variable\n",
    "    \n",
    "    plt.figure(figsize=(15,6))\n",
    "    plt.subplot(1, 2, 1)\n",
    "    df[variable].hist(bins=30)\n",
    "\n",
    "    plt.subplot(1, 2, 2)\n",
    "    stats.probplot(df[variable], dist=\"norm\", plot=plt)\n",
    "    plt.ylabel(\"\\n\" + variable + \" quantities\")\n",
    "    plt.show()"
   ]
  },
  {
   "cell_type": "code",
   "execution_count": 19,
   "metadata": {},
   "outputs": [
    {
     "data": {
      "text/plain": [
       "Item_Visibility              0.000000\n",
       "Item_MRP                     0.000000\n",
       "Outlet_Establishment_Year    0.000000\n",
       "Item_Outlet_Sales            0.000000\n",
       "Item_Weight                  0.165414\n",
       "dtype: float64"
      ]
     },
     "execution_count": 19,
     "metadata": {},
     "output_type": "execute_result"
    }
   ],
   "source": [
    "# find numerical variables\n",
    "num_cols = [n for n in data.columns if data[n].dtypes !='O']\n",
    "data[num_cols].isnull().mean().sort_values()"
   ]
  },
  {
   "cell_type": "code",
   "execution_count": 20,
   "metadata": {},
   "outputs": [],
   "source": [
    "data[\"Item_Visibility\"] += 1\n",
    "lt = LogTransformer(variables=[\"Item_Visibility\"])\n",
    "\n",
    "# fit transformer to data set\n",
    "lt.fit(data)\n",
    "data = lt.transform(data)"
   ]
  },
  {
   "cell_type": "code",
   "execution_count": 21,
   "metadata": {},
   "outputs": [
    {
     "data": {
      "image/png": "[encoded data removed]",
      "text/plain": [
       "<Figure size 1080x432 with 2 Axes>"
      ]
     },
     "metadata": {
      "needs_background": "light"
     },
     "output_type": "display_data"
    },
    {
     "data": {
      "image/png": "[encoded data removed]",
      "text/plain": [
       "<Figure size 1080x432 with 2 Axes>"
      ]
     },
     "metadata": {
      "needs_background": "light"
     },
     "output_type": "display_data"
    }
   ],
   "source": [
    "# Before Transforming \n",
    "diagnostic_plots_hist_qq(data_backup, 'Item_Visibility')\\\n",
    "# After Transforming \n",
    "diagnostic_plots_hist_qq(data, 'Item_Visibility')"
   ]
  },
  {
   "cell_type": "code",
   "execution_count": 22,
   "metadata": {},
   "outputs": [],
   "source": [
    "# Set up yeo johnson transformer\n",
    "#Item Visibility\n",
    "yjt = YeoJohnsonTransformer(variables =[\"Item_MRP\"])\n",
    "\n",
    "# fit transformer to the dataframe\n",
    "yjt.fit(data)\n",
    "data = yjt.transform(data)"
   ]
  },
  {
   "cell_type": "code",
   "execution_count": 23,
   "metadata": {},
   "outputs": [
    {
     "data": {
      "image/png": "[encoded data removed]",
      "text/plain": [
       "<Figure size 1080x432 with 2 Axes>"
      ]
     },
     "metadata": {
      "needs_background": "light"
     },
     "output_type": "display_data"
    },
    {
     "data": {
      "image/png": "[encoded data removed]",
      "text/plain": [
       "<Figure size 1080x432 with 2 Axes>"
      ]
     },
     "metadata": {
      "needs_background": "light"
     },
     "output_type": "display_data"
    }
   ],
   "source": [
    "# Before Transforming \n",
    "diagnostic_plots_hist_qq(data_backup, 'Item_MRP')\n",
    "# After Transforming \n",
    "diagnostic_plots_hist_qq(data, 'Item_MRP')"
   ]
  },
  {
   "cell_type": "markdown",
   "metadata": {},
   "source": [
    "### Sorting Cardinality "
   ]
  },
  {
   "cell_type": "code",
   "execution_count": 24,
   "metadata": {
    "scrolled": false
   },
   "outputs": [
    {
     "name": "stdout",
     "output_type": "stream",
     "text": [
      "Item_Identifier :    ['FDA15' 'DRC01' 'FDN15' ... 'NCF55' 'NCW30' 'NCW05'] \t 1559\n",
      "Item_Fat_Content :    ['Low Fat' 'Regular' 'low fat' 'LF' 'reg'] \t 5\n",
      "Item_Type :    ['Dairy' 'Soft Drinks' 'Meat' 'Fruits and Vegetables' 'Household'\n",
      " 'Baking Goods' 'Snack Foods' 'Frozen Foods' 'Breakfast'\n",
      " 'Health and Hygiene' 'Hard Drinks' 'Canned' 'Breads' 'Starchy Foods'\n",
      " 'Others' 'Seafood'] \t 16\n",
      "Outlet_Identifier :    ['OUT049' 'OUT018' 'OUT010' 'OUT013' 'OUT027' 'OUT045' 'OUT017' 'OUT046'\n",
      " 'OUT035' 'OUT019'] \t 10\n",
      "Outlet_Size :    ['Medium' nan 'High' 'Small'] \t 3\n",
      "Outlet_Location_Type :    ['Tier 1' 'Tier 3' 'Tier 2'] \t 3\n",
      "Outlet_Type :    ['Supermarket Type1' 'Supermarket Type2' 'Grocery Store'\n",
      " 'Supermarket Type3'] \t 4\n"
     ]
    }
   ],
   "source": [
    "# User defined function to find Unique Values in dataset.\n",
    "def find_unique_values(df):\n",
    "    for variable in df:\n",
    "        if (df[variable].dtypes == \"O\"):\n",
    "            print(variable,\":   \",df[variable].unique(),\"\\t\",df[variable].nunique())\n",
    "          \n",
    "find_unique_values(data)"
   ]
  },
  {
   "cell_type": "code",
   "execution_count": 25,
   "metadata": {},
   "outputs": [],
   "source": [
    "# As we can see, some values of `Item_Fat_Content` are duplicated but has similar meaning in it.\n",
    "# Hence we need to do some mapping to it.\n",
    "\n",
    "fatContentMap = {\"Item_Fat_Content\":{\"Low Fat\":\"Low Fat\",\"low fat\":\"Low Fat\",\"LF\":\"Low Fat\",\n",
    "                                    \"Regular\":\"Regular\",\"reg\":\"Regular\"}}\n",
    "data.replace(fatContentMap, inplace=True)"
   ]
  },
  {
   "cell_type": "code",
   "execution_count": 26,
   "metadata": {},
   "outputs": [
    {
     "name": "stdout",
     "output_type": "stream",
     "text": [
      "Item_Identifier :    ['FDA15' 'DRC01' 'FDN15' ... 'NCF55' 'NCW30' 'NCW05'] \t 1559\n",
      "Item_Fat_Content :    ['Low Fat' 'Regular'] \t 2\n",
      "Item_Type :    ['Dairy' 'Soft Drinks' 'Meat' 'Fruits and Vegetables' 'Household'\n",
      " 'Baking Goods' 'Snack Foods' 'Frozen Foods' 'Breakfast'\n",
      " 'Health and Hygiene' 'Hard Drinks' 'Canned' 'Breads' 'Starchy Foods'\n",
      " 'Others' 'Seafood'] \t 16\n",
      "Outlet_Identifier :    ['OUT049' 'OUT018' 'OUT010' 'OUT013' 'OUT027' 'OUT045' 'OUT017' 'OUT046'\n",
      " 'OUT035' 'OUT019'] \t 10\n",
      "Outlet_Size :    ['Medium' nan 'High' 'Small'] \t 3\n",
      "Outlet_Location_Type :    ['Tier 1' 'Tier 3' 'Tier 2'] \t 3\n",
      "Outlet_Type :    ['Supermarket Type1' 'Supermarket Type2' 'Grocery Store'\n",
      " 'Supermarket Type3'] \t 4\n"
     ]
    }
   ],
   "source": [
    "find_unique_values(data)"
   ]
  },
  {
   "cell_type": "markdown",
   "metadata": {},
   "source": [
    "### Step 3: Train and Test Split <a id=\"step3\"></a>\n",
    "[Back to Top](#top)"
   ]
  },
  {
   "cell_type": "code",
   "execution_count": 27,
   "metadata": {},
   "outputs": [
    {
     "data": {
      "text/plain": [
       "((5865, 11), (2514, 11))"
      ]
     },
     "execution_count": 27,
     "metadata": {},
     "output_type": "execute_result"
    }
   ],
   "source": [
    "X_train, X_test, y_train, y_test = train_test_split(\n",
    "    data.drop('Item_Outlet_Sales', axis=1), data['Item_Outlet_Sales'], test_size=0.3, random_state=0)\n",
    "\n",
    "X_train.shape, X_test.shape"
   ]
  },
  {
   "cell_type": "markdown",
   "metadata": {},
   "source": [
    "### Step 4: Missing Value Imputation <a id=\"step4\"></a>\n",
    "[Back to Top](#top)"
   ]
  },
  {
   "cell_type": "code",
   "execution_count": 28,
   "metadata": {},
   "outputs": [
    {
     "data": {
      "text/plain": [
       "Item_Identifier              0.000000\n",
       "Item_Weight                  0.165414\n",
       "Item_Fat_Content             0.000000\n",
       "Item_Visibility              0.000000\n",
       "Item_Type                    0.000000\n",
       "Item_MRP                     0.000000\n",
       "Outlet_Identifier            0.000000\n",
       "Outlet_Establishment_Year    0.000000\n",
       "Outlet_Size                  0.279628\n",
       "Outlet_Location_Type         0.000000\n",
       "Outlet_Type                  0.000000\n",
       "Item_Outlet_Sales            0.000000\n",
       "dtype: float64"
      ]
     },
     "execution_count": 28,
     "metadata": {},
     "output_type": "execute_result"
    }
   ],
   "source": [
    "# find the percentage of missing data per variable \n",
    "data.isnull().mean()"
   ]
  },
  {
   "cell_type": "code",
   "execution_count": 29,
   "metadata": {},
   "outputs": [],
   "source": [
    "# first we need to make a list of columns that has missing data\n",
    "features_num_mean = ['Item_Weight'] \n",
    "features_cat_frequent = [\"Outlet_Size\"]"
   ]
  },
  {
   "cell_type": "code",
   "execution_count": 30,
   "metadata": {},
   "outputs": [],
   "source": [
    "# we instantiate each imputer within a pipeline\n",
    "\n",
    "pipe = Pipeline(steps=[\n",
    "    ('imp_num_mean', mdi.MeanMedianImputer(imputation_method = 'median', variables=features_num_mean)),\n",
    "    ('imp_cat_frequent', mdi.CategoricalImputer(variables = features_cat_frequent, imputation_method='frequent'))\n",
    "])"
   ]
  },
  {
   "cell_type": "code",
   "execution_count": 31,
   "metadata": {
    "scrolled": true
   },
   "outputs": [
    {
     "data": {
      "text/plain": [
       "Pipeline(steps=[('imp_num_mean', MeanMedianImputer(variables=['Item_Weight'])),\n",
       "                ('imp_cat_frequent',\n",
       "                 CategoricalImputer(imputation_method='frequent',\n",
       "                                    variables=['Outlet_Size']))])"
      ]
     },
     "execution_count": 31,
     "metadata": {},
     "output_type": "execute_result"
    }
   ],
   "source": [
    "# now we fit the preprocessor\n",
    "pipe.fit(X_train)"
   ]
  },
  {
   "cell_type": "code",
   "execution_count": 32,
   "metadata": {},
   "outputs": [],
   "source": [
    "# and now we impute the data\n",
    "X_train = pipe.transform(X_train)\n",
    "X_test = pipe.transform(X_test)"
   ]
  },
  {
   "cell_type": "code",
   "execution_count": 33,
   "metadata": {},
   "outputs": [
    {
     "data": {
      "text/plain": [
       "Item_Identifier              0\n",
       "Item_Weight                  0\n",
       "Item_Fat_Content             0\n",
       "Item_Visibility              0\n",
       "Item_Type                    0\n",
       "Item_MRP                     0\n",
       "Outlet_Identifier            0\n",
       "Outlet_Establishment_Year    0\n",
       "Outlet_Size                  0\n",
       "Outlet_Location_Type         0\n",
       "Outlet_Type                  0\n",
       "dtype: int64"
      ]
     },
     "metadata": {},
     "output_type": "display_data"
    },
    {
     "data": {
      "text/plain": [
       "Item_Identifier              0\n",
       "Item_Weight                  0\n",
       "Item_Fat_Content             0\n",
       "Item_Visibility              0\n",
       "Item_Type                    0\n",
       "Item_MRP                     0\n",
       "Outlet_Identifier            0\n",
       "Outlet_Establishment_Year    0\n",
       "Outlet_Size                  0\n",
       "Outlet_Location_Type         0\n",
       "Outlet_Type                  0\n",
       "dtype: int64"
      ]
     },
     "metadata": {},
     "output_type": "display_data"
    }
   ],
   "source": [
    "# Check that there are 0 null values\n",
    "display(X_train.isnull().sum())\n",
    "display(X_test.isnull().sum())"
   ]
  },
  {
   "cell_type": "code",
   "execution_count": 34,
   "metadata": {},
   "outputs": [],
   "source": [
    "# As Item_Weight has null values, it can only be transformed after dealing with null values \n",
    "rt = ReciprocalTransformer(variables =['Item_Weight'])\n",
    "\n",
    "# Fit\n",
    "rt.fit(X_train)\n",
    "# Transform\n",
    "X_train = rt.transform(X_train)\n",
    "X_test = rt.transform(X_test)"
   ]
  },
  {
   "cell_type": "markdown",
   "metadata": {},
   "source": [
    "### Step 5: Categorical Data Encoding  <a id=\"step5\"></a>\n",
    "[Back to Top](#top)"
   ]
  },
  {
   "cell_type": "code",
   "execution_count": 35,
   "metadata": {
    "scrolled": false
   },
   "outputs": [
    {
     "name": "stdout",
     "output_type": "stream",
     "text": [
      "Item_Identifier :    ['FDA15' 'DRC01' 'FDN15' ... 'NCF55' 'NCW30' 'NCW05'] \t 1559\n",
      "Item_Fat_Content :    ['Low Fat' 'Regular'] \t 2\n",
      "Item_Type :    ['Dairy' 'Soft Drinks' 'Meat' 'Fruits and Vegetables' 'Household'\n",
      " 'Baking Goods' 'Snack Foods' 'Frozen Foods' 'Breakfast'\n",
      " 'Health and Hygiene' 'Hard Drinks' 'Canned' 'Breads' 'Starchy Foods'\n",
      " 'Others' 'Seafood'] \t 16\n",
      "Outlet_Identifier :    ['OUT049' 'OUT018' 'OUT010' 'OUT013' 'OUT027' 'OUT045' 'OUT017' 'OUT046'\n",
      " 'OUT035' 'OUT019'] \t 10\n",
      "Outlet_Size :    ['Medium' nan 'High' 'Small'] \t 3\n",
      "Outlet_Location_Type :    ['Tier 1' 'Tier 3' 'Tier 2'] \t 3\n",
      "Outlet_Type :    ['Supermarket Type1' 'Supermarket Type2' 'Grocery Store'\n",
      " 'Supermarket Type3'] \t 4\n"
     ]
    }
   ],
   "source": [
    "find_unique_values(data)"
   ]
  },
  {
   "cell_type": "markdown",
   "metadata": {},
   "source": [
    "### Ordinal Encoding"
   ]
  },
  {
   "cell_type": "code",
   "execution_count": 36,
   "metadata": {},
   "outputs": [],
   "source": [
    "# let's create the encoder\n",
    "ordinal_enc = OrdinalEncoder(encoding_method='arbitrary',\n",
    "                             variables=[\"Item_Type\",\"Outlet_Identifier\"])"
   ]
  },
  {
   "cell_type": "code",
   "execution_count": 37,
   "metadata": {},
   "outputs": [
    {
     "data": {
      "text/plain": [
       "OrdinalEncoder(encoding_method='arbitrary',\n",
       "               variables=['Item_Type', 'Outlet_Identifier'])"
      ]
     },
     "execution_count": 37,
     "metadata": {},
     "output_type": "execute_result"
    }
   ],
   "source": [
    "ordinal_enc.fit(X_train)"
   ]
  },
  {
   "cell_type": "code",
   "execution_count": 38,
   "metadata": {},
   "outputs": [],
   "source": [
    "# let's transform train and test sets\n",
    "\n",
    "X_train_enc = ordinal_enc.transform(X_train)\n",
    "X_test_enc = ordinal_enc.transform(X_test)"
   ]
  },
  {
   "cell_type": "code",
   "execution_count": 39,
   "metadata": {},
   "outputs": [
    {
     "data": {
      "text/plain": [
       "{'Item_Type': {'Baking Goods': 0,\n",
       "  'Snack Foods': 1,\n",
       "  'Canned': 2,\n",
       "  'Starchy Foods': 3,\n",
       "  'Health and Hygiene': 4,\n",
       "  'Household': 5,\n",
       "  'Fruits and Vegetables': 6,\n",
       "  'Breakfast': 7,\n",
       "  'Meat': 8,\n",
       "  'Frozen Foods': 9,\n",
       "  'Dairy': 10,\n",
       "  'Soft Drinks': 11,\n",
       "  'Hard Drinks': 12,\n",
       "  'Breads': 13,\n",
       "  'Others': 14,\n",
       "  'Seafood': 15},\n",
       " 'Outlet_Identifier': {'OUT027': 0,\n",
       "  'OUT013': 1,\n",
       "  'OUT046': 2,\n",
       "  'OUT010': 3,\n",
       "  'OUT035': 4,\n",
       "  'OUT017': 5,\n",
       "  'OUT045': 6,\n",
       "  'OUT018': 7,\n",
       "  'OUT049': 8,\n",
       "  'OUT019': 9}}"
      ]
     },
     "execution_count": 39,
     "metadata": {},
     "output_type": "execute_result"
    }
   ],
   "source": [
    "ordinal_enc.encoder_dict_"
   ]
  },
  {
   "cell_type": "markdown",
   "metadata": {},
   "source": [
    "### One Hot Encoding "
   ]
  },
  {
   "cell_type": "code",
   "execution_count": 40,
   "metadata": {},
   "outputs": [
    {
     "data": {
      "text/plain": [
       "OneHotEncoder(variables=['Item_Fat_Content', 'Outlet_Size',\n",
       "                         'Outlet_Location_Type', 'Outlet_Type'])"
      ]
     },
     "execution_count": 40,
     "metadata": {},
     "output_type": "execute_result"
    }
   ],
   "source": [
    "ohe_enc = OneHotEncoder(variables=[\"Item_Fat_Content\",\"Outlet_Size\",\"Outlet_Location_Type\",'Outlet_Type']) \n",
    "ohe_enc.fit(X_train_enc)"
   ]
  },
  {
   "cell_type": "code",
   "execution_count": 41,
   "metadata": {},
   "outputs": [],
   "source": [
    "X_train_enc = ohe_enc.transform(X_train_enc)\n",
    "X_test_enc = ohe_enc.transform(X_test_enc)"
   ]
  },
  {
   "cell_type": "code",
   "execution_count": 42,
   "metadata": {},
   "outputs": [
    {
     "data": {
      "text/plain": [
       "OneHotEncoder(top_categories=5, variables=['Item_Identifier'])"
      ]
     },
     "execution_count": 42,
     "metadata": {},
     "output_type": "execute_result"
    }
   ],
   "source": [
    "# One Hot Encoding for Top Categories of Item Identifier\n",
    "ohe_enc_topCat = OneHotEncoder(\n",
    "    # to indicate how many top categories\n",
    "    top_categories=5,  \n",
    "    \n",
    "    # we can select which variables to encode\n",
    "    variables=['Item_Identifier'],\n",
    "    \n",
    "    # to indicate if we drop one of the binaries\n",
    "    drop_last=False)\n",
    "    \n",
    "ohe_enc_topCat.fit(X_train_enc)"
   ]
  },
  {
   "cell_type": "code",
   "execution_count": 43,
   "metadata": {},
   "outputs": [],
   "source": [
    "X_train_enc = ohe_enc_topCat.transform(X_train_enc)\n",
    "X_test_enc = ohe_enc_topCat.transform(X_test_enc)"
   ]
  },
  {
   "cell_type": "code",
   "execution_count": 44,
   "metadata": {},
   "outputs": [
    {
     "data": {
      "text/html": [
       "<div>\n",
       "<style scoped>\n",
       "    .dataframe tbody tr th:only-of-type {\n",
       "        vertical-align: middle;\n",
       "    }\n",
       "\n",
       "    .dataframe tbody tr th {\n",
       "        vertical-align: top;\n",
       "    }\n",
       "\n",
       "    .dataframe thead th {\n",
       "        text-align: right;\n",
       "    }\n",
       "</style>\n",
       "<table border=\"1\" class=\"dataframe\">\n",
       "  <thead>\n",
       "    <tr style=\"text-align: right;\">\n",
       "      <th></th>\n",
       "      <th>Item_Identifier</th>\n",
       "      <th>Item_Weight</th>\n",
       "      <th>Item_Fat_Content</th>\n",
       "      <th>Item_Visibility</th>\n",
       "      <th>Item_Type</th>\n",
       "      <th>Item_MRP</th>\n",
       "      <th>Outlet_Identifier</th>\n",
       "      <th>Outlet_Establishment_Year</th>\n",
       "      <th>Outlet_Size</th>\n",
       "      <th>Outlet_Location_Type</th>\n",
       "      <th>Outlet_Type</th>\n",
       "    </tr>\n",
       "  </thead>\n",
       "  <tbody>\n",
       "    <tr>\n",
       "      <th>1688</th>\n",
       "      <td>FDL12</td>\n",
       "      <td>0.080000</td>\n",
       "      <td>Regular</td>\n",
       "      <td>0.114260</td>\n",
       "      <td>Baking Goods</td>\n",
       "      <td>23.359900</td>\n",
       "      <td>OUT027</td>\n",
       "      <td>1985</td>\n",
       "      <td>Medium</td>\n",
       "      <td>Tier 3</td>\n",
       "      <td>Supermarket Type3</td>\n",
       "    </tr>\n",
       "    <tr>\n",
       "      <th>6310</th>\n",
       "      <td>FDQ34</td>\n",
       "      <td>0.092166</td>\n",
       "      <td>Low Fat</td>\n",
       "      <td>0.150235</td>\n",
       "      <td>Snack Foods</td>\n",
       "      <td>35.513206</td>\n",
       "      <td>OUT013</td>\n",
       "      <td>1987</td>\n",
       "      <td>High</td>\n",
       "      <td>Tier 3</td>\n",
       "      <td>Supermarket Type1</td>\n",
       "    </tr>\n",
       "    <tr>\n",
       "      <th>3251</th>\n",
       "      <td>FDE26</td>\n",
       "      <td>0.107527</td>\n",
       "      <td>Low Fat</td>\n",
       "      <td>0.085265</td>\n",
       "      <td>Canned</td>\n",
       "      <td>44.074942</td>\n",
       "      <td>OUT046</td>\n",
       "      <td>1997</td>\n",
       "      <td>Small</td>\n",
       "      <td>Tier 1</td>\n",
       "      <td>Supermarket Type1</td>\n",
       "    </tr>\n",
       "    <tr>\n",
       "      <th>4125</th>\n",
       "      <td>FDC11</td>\n",
       "      <td>0.048780</td>\n",
       "      <td>Low Fat</td>\n",
       "      <td>0.132600</td>\n",
       "      <td>Starchy Foods</td>\n",
       "      <td>31.437257</td>\n",
       "      <td>OUT046</td>\n",
       "      <td>1997</td>\n",
       "      <td>Small</td>\n",
       "      <td>Tier 1</td>\n",
       "      <td>Supermarket Type1</td>\n",
       "    </tr>\n",
       "    <tr>\n",
       "      <th>2573</th>\n",
       "      <td>FDU46</td>\n",
       "      <td>0.097087</td>\n",
       "      <td>Regular</td>\n",
       "      <td>0.018452</td>\n",
       "      <td>Snack Foods</td>\n",
       "      <td>30.967308</td>\n",
       "      <td>OUT010</td>\n",
       "      <td>1998</td>\n",
       "      <td>Medium</td>\n",
       "      <td>Tier 3</td>\n",
       "      <td>Grocery Store</td>\n",
       "    </tr>\n",
       "  </tbody>\n",
       "</table>\n",
       "</div>"
      ],
      "text/plain": [
       "     Item_Identifier  Item_Weight Item_Fat_Content  Item_Visibility  \\\n",
       "1688           FDL12     0.080000          Regular         0.114260   \n",
       "6310           FDQ34     0.092166          Low Fat         0.150235   \n",
       "3251           FDE26     0.107527          Low Fat         0.085265   \n",
       "4125           FDC11     0.048780          Low Fat         0.132600   \n",
       "2573           FDU46     0.097087          Regular         0.018452   \n",
       "\n",
       "          Item_Type   Item_MRP Outlet_Identifier  Outlet_Establishment_Year  \\\n",
       "1688   Baking Goods  23.359900            OUT027                       1985   \n",
       "6310    Snack Foods  35.513206            OUT013                       1987   \n",
       "3251         Canned  44.074942            OUT046                       1997   \n",
       "4125  Starchy Foods  31.437257            OUT046                       1997   \n",
       "2573    Snack Foods  30.967308            OUT010                       1998   \n",
       "\n",
       "     Outlet_Size Outlet_Location_Type        Outlet_Type  \n",
       "1688      Medium               Tier 3  Supermarket Type3  \n",
       "6310        High               Tier 3  Supermarket Type1  \n",
       "3251       Small               Tier 1  Supermarket Type1  \n",
       "4125       Small               Tier 1  Supermarket Type1  \n",
       "2573      Medium               Tier 3      Grocery Store  "
      ]
     },
     "execution_count": 44,
     "metadata": {},
     "output_type": "execute_result"
    }
   ],
   "source": [
    "# Before Encoding\n",
    "X_train.head()"
   ]
  },
  {
   "cell_type": "code",
   "execution_count": 45,
   "metadata": {},
   "outputs": [
    {
     "data": {
      "text/html": [
       "<div>\n",
       "<style scoped>\n",
       "    .dataframe tbody tr th:only-of-type {\n",
       "        vertical-align: middle;\n",
       "    }\n",
       "\n",
       "    .dataframe tbody tr th {\n",
       "        vertical-align: top;\n",
       "    }\n",
       "\n",
       "    .dataframe thead th {\n",
       "        text-align: right;\n",
       "    }\n",
       "</style>\n",
       "<table border=\"1\" class=\"dataframe\">\n",
       "  <thead>\n",
       "    <tr style=\"text-align: right;\">\n",
       "      <th></th>\n",
       "      <th>Item_Weight</th>\n",
       "      <th>Item_Visibility</th>\n",
       "      <th>Item_Type</th>\n",
       "      <th>Item_MRP</th>\n",
       "      <th>Outlet_Identifier</th>\n",
       "      <th>Outlet_Establishment_Year</th>\n",
       "      <th>Item_Fat_Content_Regular</th>\n",
       "      <th>Item_Fat_Content_Low Fat</th>\n",
       "      <th>Outlet_Size_Medium</th>\n",
       "      <th>Outlet_Size_High</th>\n",
       "      <th>...</th>\n",
       "      <th>Outlet_Location_Type_Tier 2</th>\n",
       "      <th>Outlet_Type_Supermarket Type3</th>\n",
       "      <th>Outlet_Type_Supermarket Type1</th>\n",
       "      <th>Outlet_Type_Grocery Store</th>\n",
       "      <th>Outlet_Type_Supermarket Type2</th>\n",
       "      <th>Item_Identifier_FDX31</th>\n",
       "      <th>Item_Identifier_FDX45</th>\n",
       "      <th>Item_Identifier_FDR04</th>\n",
       "      <th>Item_Identifier_NCV41</th>\n",
       "      <th>Item_Identifier_FDI41</th>\n",
       "    </tr>\n",
       "  </thead>\n",
       "  <tbody>\n",
       "    <tr>\n",
       "      <th>1688</th>\n",
       "      <td>0.080000</td>\n",
       "      <td>0.114260</td>\n",
       "      <td>0</td>\n",
       "      <td>23.359900</td>\n",
       "      <td>0</td>\n",
       "      <td>1985</td>\n",
       "      <td>1</td>\n",
       "      <td>0</td>\n",
       "      <td>1</td>\n",
       "      <td>0</td>\n",
       "      <td>...</td>\n",
       "      <td>0</td>\n",
       "      <td>1</td>\n",
       "      <td>0</td>\n",
       "      <td>0</td>\n",
       "      <td>0</td>\n",
       "      <td>0</td>\n",
       "      <td>0</td>\n",
       "      <td>0</td>\n",
       "      <td>0</td>\n",
       "      <td>0</td>\n",
       "    </tr>\n",
       "    <tr>\n",
       "      <th>6310</th>\n",
       "      <td>0.092166</td>\n",
       "      <td>0.150235</td>\n",
       "      <td>1</td>\n",
       "      <td>35.513206</td>\n",
       "      <td>1</td>\n",
       "      <td>1987</td>\n",
       "      <td>0</td>\n",
       "      <td>1</td>\n",
       "      <td>0</td>\n",
       "      <td>1</td>\n",
       "      <td>...</td>\n",
       "      <td>0</td>\n",
       "      <td>0</td>\n",
       "      <td>1</td>\n",
       "      <td>0</td>\n",
       "      <td>0</td>\n",
       "      <td>0</td>\n",
       "      <td>0</td>\n",
       "      <td>0</td>\n",
       "      <td>0</td>\n",
       "      <td>0</td>\n",
       "    </tr>\n",
       "    <tr>\n",
       "      <th>3251</th>\n",
       "      <td>0.107527</td>\n",
       "      <td>0.085265</td>\n",
       "      <td>2</td>\n",
       "      <td>44.074942</td>\n",
       "      <td>2</td>\n",
       "      <td>1997</td>\n",
       "      <td>0</td>\n",
       "      <td>1</td>\n",
       "      <td>0</td>\n",
       "      <td>0</td>\n",
       "      <td>...</td>\n",
       "      <td>0</td>\n",
       "      <td>0</td>\n",
       "      <td>1</td>\n",
       "      <td>0</td>\n",
       "      <td>0</td>\n",
       "      <td>0</td>\n",
       "      <td>0</td>\n",
       "      <td>0</td>\n",
       "      <td>0</td>\n",
       "      <td>0</td>\n",
       "    </tr>\n",
       "    <tr>\n",
       "      <th>4125</th>\n",
       "      <td>0.048780</td>\n",
       "      <td>0.132600</td>\n",
       "      <td>3</td>\n",
       "      <td>31.437257</td>\n",
       "      <td>2</td>\n",
       "      <td>1997</td>\n",
       "      <td>0</td>\n",
       "      <td>1</td>\n",
       "      <td>0</td>\n",
       "      <td>0</td>\n",
       "      <td>...</td>\n",
       "      <td>0</td>\n",
       "      <td>0</td>\n",
       "      <td>1</td>\n",
       "      <td>0</td>\n",
       "      <td>0</td>\n",
       "      <td>0</td>\n",
       "      <td>0</td>\n",
       "      <td>0</td>\n",
       "      <td>0</td>\n",
       "      <td>0</td>\n",
       "    </tr>\n",
       "    <tr>\n",
       "      <th>2573</th>\n",
       "      <td>0.097087</td>\n",
       "      <td>0.018452</td>\n",
       "      <td>1</td>\n",
       "      <td>30.967308</td>\n",
       "      <td>3</td>\n",
       "      <td>1998</td>\n",
       "      <td>1</td>\n",
       "      <td>0</td>\n",
       "      <td>1</td>\n",
       "      <td>0</td>\n",
       "      <td>...</td>\n",
       "      <td>0</td>\n",
       "      <td>0</td>\n",
       "      <td>0</td>\n",
       "      <td>1</td>\n",
       "      <td>0</td>\n",
       "      <td>0</td>\n",
       "      <td>0</td>\n",
       "      <td>0</td>\n",
       "      <td>0</td>\n",
       "      <td>0</td>\n",
       "    </tr>\n",
       "  </tbody>\n",
       "</table>\n",
       "<p>5 rows × 23 columns</p>\n",
       "</div>"
      ],
      "text/plain": [
       "      Item_Weight  Item_Visibility  Item_Type   Item_MRP  Outlet_Identifier  \\\n",
       "1688     0.080000         0.114260          0  23.359900                  0   \n",
       "6310     0.092166         0.150235          1  35.513206                  1   \n",
       "3251     0.107527         0.085265          2  44.074942                  2   \n",
       "4125     0.048780         0.132600          3  31.437257                  2   \n",
       "2573     0.097087         0.018452          1  30.967308                  3   \n",
       "\n",
       "      Outlet_Establishment_Year  Item_Fat_Content_Regular  \\\n",
       "1688                       1985                         1   \n",
       "6310                       1987                         0   \n",
       "3251                       1997                         0   \n",
       "4125                       1997                         0   \n",
       "2573                       1998                         1   \n",
       "\n",
       "      Item_Fat_Content_Low Fat  Outlet_Size_Medium  Outlet_Size_High  ...  \\\n",
       "1688                         0                   1                 0  ...   \n",
       "6310                         1                   0                 1  ...   \n",
       "3251                         1                   0                 0  ...   \n",
       "4125                         1                   0                 0  ...   \n",
       "2573                         0                   1                 0  ...   \n",
       "\n",
       "      Outlet_Location_Type_Tier 2  Outlet_Type_Supermarket Type3  \\\n",
       "1688                            0                              1   \n",
       "6310                            0                              0   \n",
       "3251                            0                              0   \n",
       "4125                            0                              0   \n",
       "2573                            0                              0   \n",
       "\n",
       "      Outlet_Type_Supermarket Type1  Outlet_Type_Grocery Store  \\\n",
       "1688                              0                          0   \n",
       "6310                              1                          0   \n",
       "3251                              1                          0   \n",
       "4125                              1                          0   \n",
       "2573                              0                          1   \n",
       "\n",
       "      Outlet_Type_Supermarket Type2  Item_Identifier_FDX31  \\\n",
       "1688                              0                      0   \n",
       "6310                              0                      0   \n",
       "3251                              0                      0   \n",
       "4125                              0                      0   \n",
       "2573                              0                      0   \n",
       "\n",
       "      Item_Identifier_FDX45  Item_Identifier_FDR04  Item_Identifier_NCV41  \\\n",
       "1688                      0                      0                      0   \n",
       "6310                      0                      0                      0   \n",
       "3251                      0                      0                      0   \n",
       "4125                      0                      0                      0   \n",
       "2573                      0                      0                      0   \n",
       "\n",
       "      Item_Identifier_FDI41  \n",
       "1688                      0  \n",
       "6310                      0  \n",
       "3251                      0  \n",
       "4125                      0  \n",
       "2573                      0  \n",
       "\n",
       "[5 rows x 23 columns]"
      ]
     },
     "execution_count": 45,
     "metadata": {},
     "output_type": "execute_result"
    }
   ],
   "source": [
    "# After Encoding\n",
    "X_train_enc.head()"
   ]
  },
  {
   "cell_type": "markdown",
   "metadata": {},
   "source": [
    "### Step 6: Variable Discretization /Binning  <a id=\"step6\"></a>\n",
    "[Back to Top](#top)"
   ]
  },
  {
   "cell_type": "code",
   "execution_count": 46,
   "metadata": {},
   "outputs": [],
   "source": [
    "# let's set up an equal-width discretizer into 15 intervals\n",
    "disc = EqualWidthDiscretiser(bins=15, variables = [\"Item_Weight\"])\n",
    "\n",
    "disc.fit(X_train_enc)\n",
    "\n",
    "X_train_enc = disc.transform(X_train_enc)\n",
    "X_test_enc = disc.transform(X_test_enc)"
   ]
  },
  {
   "cell_type": "code",
   "execution_count": 47,
   "metadata": {},
   "outputs": [
    {
     "data": {
      "text/plain": [
       "Text(0, 0.5, 'Number of observations per bin')"
      ]
     },
     "execution_count": 47,
     "metadata": {},
     "output_type": "execute_result"
    },
    {
     "data": {
      "image/png": "[encoded data removed]",
      "text/plain": [
       "<Figure size 432x288 with 1 Axes>"
      ]
     },
     "metadata": {
      "needs_background": "light"
     },
     "output_type": "display_data"
    }
   ],
   "source": [
    "# Item_Weight\n",
    "\n",
    "t1 = X_train_enc.groupby(['Item_Weight'])['Item_Weight'].count() / len(X_train_enc)\n",
    "t2 = X_test_enc.groupby(['Item_Weight'])['Item_Weight'].count() / len(X_test_enc)\n",
    "\n",
    "tmp = pd.concat([t1, t2], axis=1)\n",
    "tmp.columns = ['train', 'test']\n",
    "tmp.plot.bar()\n",
    "plt.xticks(rotation=0)\n",
    "plt.ylabel('Number of observations per bin')"
   ]
  },
  {
   "cell_type": "code",
   "execution_count": 48,
   "metadata": {},
   "outputs": [],
   "source": [
    "# q is the desire number of equal frequency intervals/bins \n",
    "disc = EqualFrequencyDiscretiser(q=50, variables = [\"Outlet_Establishment_Year\"])\n",
    "\n",
    "disc.fit(X_train_enc)\n",
    "\n",
    "X_train_enc = disc.transform(X_train_enc)\n",
    "X_test_enc = disc.transform(X_test_enc)"
   ]
  },
  {
   "cell_type": "code",
   "execution_count": 49,
   "metadata": {},
   "outputs": [
    {
     "data": {
      "text/plain": [
       "Text(0, 0.5, 'Number of observations per bin')"
      ]
     },
     "execution_count": 49,
     "metadata": {},
     "output_type": "execute_result"
    },
    {
     "data": {
      "image/png": "[encoded data removed]",
      "text/plain": [
       "<Figure size 432x288 with 1 Axes>"
      ]
     },
     "metadata": {
      "needs_background": "light"
     },
     "output_type": "display_data"
    }
   ],
   "source": [
    "# Outlet_Establishment_Year\n",
    "\n",
    "t1 = X_train_enc.groupby(['Outlet_Establishment_Year'])['Outlet_Establishment_Year'].count() / len(X_train_enc)\n",
    "t2 = X_test_enc.groupby(['Outlet_Establishment_Year'])['Outlet_Establishment_Year'].count() / len(X_test_enc)\n",
    "\n",
    "tmp = pd.concat([t1, t2], axis=1)\n",
    "tmp.columns = ['train', 'test']\n",
    "tmp.plot.bar()\n",
    "plt.xticks(rotation=0)\n",
    "plt.ylabel('Number of observations per bin')"
   ]
  },
  {
   "cell_type": "markdown",
   "metadata": {},
   "source": [
    "### Step 7: Feature Engineer  <a id=\"step7\"></a>\n",
    "[Back to Top](#top)"
   ]
  },
  {
   "cell_type": "code",
   "execution_count": 50,
   "metadata": {},
   "outputs": [],
   "source": [
    "# set up the scaler\n",
    "scaler = StandardScaler()\n",
    "\n",
    "# fit the scaler to the train set, it will learn the parameters\n",
    "scaler.fit(X_train_enc)\n",
    "\n",
    "# Fitting then transformation or prediction. \n",
    "\n",
    "# transform train and test sets\n",
    "X_train_scaled = scaler.transform(X_train_enc)\n",
    "X_test_scaled = scaler.transform(X_test_enc)"
   ]
  },
  {
   "cell_type": "markdown",
   "metadata": {},
   "source": [
    "### Step 8: Linear Regression Modelling  <a id=\"step8\"></a>\n",
    "[Back to Top](#top)"
   ]
  },
  {
   "cell_type": "markdown",
   "metadata": {},
   "source": [
    "Linear regression is defined as a machine learning model in which the model finds the best fit linear line between the independent and dependent variables in which the aim is to find the best fit linear line and the optimal values of intercept and coefficients such that errors are minimized. For the purpose of this analysis, the goal is to use the X variables e.g. columns other than item outlet sales,to predict the item outlet sales (y variable, or target variable).\n",
    "### Building and Evaluating the Model\n",
    "In order to evaluate the model performance of a linear regression model, a range of measures can be used, but in this ASG1 we will focus on only 2:\n",
    "\n",
    "- Root Mean Square Error (RMSE): The RMSE is the square root of the variance of the residuals, that is, the squared differences between prediction and actual observation. Lower values of RMSE indicate better fit and model performance.\n",
    "- R-Square: R-square represents the percentage of the response variable variation that is explained by a linear model. The closer to 1.0 the value of R-square, the more indicative of a better fit and model performance."
   ]
  },
  {
   "cell_type": "code",
   "execution_count": 51,
   "metadata": {},
   "outputs": [],
   "source": [
    "# assign your fully cleaned and transformed data contained within your versions of \n",
    "# X_train_student_final_premodel_version, X_test_student_final_premodel_version,\n",
    "# y_train_student_final_premodel_version and y_test_student_final_premodel_version into\n",
    "# the prepared variables below, for a simple linear regression model"
   ]
  },
  {
   "cell_type": "code",
   "execution_count": 52,
   "metadata": {},
   "outputs": [
    {
     "data": {
      "text/plain": [
       "((5865, 23), (2514, 23))"
      ]
     },
     "execution_count": 52,
     "metadata": {},
     "output_type": "execute_result"
    }
   ],
   "source": [
    "X_train_scaled = pd.DataFrame(X_train_scaled, columns=X_train_enc.columns)\n",
    "X_test_scaled = pd.DataFrame(X_test_scaled, columns=X_test_enc.columns)\n",
    "X_train_scaled.shape,X_test_scaled.shape"
   ]
  },
  {
   "cell_type": "code",
   "execution_count": 53,
   "metadata": {},
   "outputs": [],
   "source": [
    "X_train_student_final_premodel_version = X_train_scaled\n",
    "X_test_student_final_premodel_version = X_test_scaled\n",
    "\n",
    "y_train_student_final_premodel_version = y_train\n",
    "y_test_student_final_premodel_version = y_test"
   ]
  },
  {
   "cell_type": "code",
   "execution_count": 54,
   "metadata": {},
   "outputs": [],
   "source": [
    "X_train_final = X_train_student_final_premodel_version\n",
    "X_test_final = X_test_student_final_premodel_version\n",
    "\n",
    "y_train_final = y_train_student_final_premodel_version\n",
    "y_test_final = y_test_student_final_premodel_version"
   ]
  },
  {
   "cell_type": "code",
   "execution_count": 55,
   "metadata": {},
   "outputs": [],
   "source": [
    "from sklearn.linear_model import LinearRegression\n",
    "from sklearn.metrics import mean_squared_error\n",
    "from sklearn.metrics import r2_score"
   ]
  },
  {
   "cell_type": "code",
   "execution_count": 56,
   "metadata": {},
   "outputs": [
    {
     "name": "stdout",
     "output_type": "stream",
     "text": [
      "train_rmse: 1321583.9470480096 \n",
      " test_rmse: 1203156.5905604237\n",
      "train_r-sq: 0.5536181114535421 \n",
      " test_r-sq: 0.5647585466583145\n"
     ]
    }
   ],
   "source": [
    "# Build Linear Regression Model\n",
    "model_linear_regression = LinearRegression()\n",
    "model_linear_regression.fit(X_train_final, y_train_final)\n",
    "\n",
    "# Evaluate the Linear Regression Model using Root Mean Square Error (RMSE)\n",
    "# The lower MAE, the better the model performance\n",
    "print('train_rmse:', mean_squared_error(y_train_final, model_linear_regression.predict(X_train_final)), \n",
    "      '\\n test_rmse:', mean_squared_error(y_test_final, model_linear_regression.predict(X_test_final)))\n",
    "\n",
    "# Evaluate the Linear Regression Model using R-Square\n",
    "# The closer the r-square value to 1, the better the model performance\n",
    "print('train_r-sq:', r2_score(y_train_final, model_linear_regression.predict(X_train_final)), \n",
    "      '\\n test_r-sq:', r2_score(y_test_final, model_linear_regression.predict(X_test_final)))"
   ]
  },
  {
   "cell_type": "markdown",
   "metadata": {},
   "source": [
    "## 1. Introduction <a id=\"part1.\"></a>\n",
    "[Back to Top](#top)\n",
    "\n",
    "In this Jupyter notebook, we are going to explore the dataset given, “supermarket.csv”, that was collected at various supermarket outlets and stores in different cities. After exploring the data, we are going to wrangle the data to predict the sales of each product at a particular outlet using a linear regression model and reviewing the performance of the model using these two measures, Root Mean Square Error (RMSE) which is the squared difference between prediction and actual observations, in which lower values of RMSE suggest better fit and model performance. Another measure is R-square (R2) which represents the percentage of the response variable that is explained by a linear model, in which an ideal R2 value can range from 0.6 to 0.9 and above. Generally, an R2 value above 0.5 is considered acceptable."
   ]
  },
  {
   "cell_type": "markdown",
   "metadata": {},
   "source": [
    "## 1.1. Introduction:  Problem Understanding <a id=\"part1.1.\"></a>\n",
    "[Back to Top](#top)\n",
    "\n",
    "We will need to understand the variables provided in the dataset before we start exploring our dataset. \n",
    " - `Item_Weight` is the weight of a product. No units are specified, assuming it to be in kilograms.\n",
    " - `Item_Fat_Content` indicates whether a product is a low fat or regular. \n",
    " - `Item_Visibility` is the percentage (%) of the total display area of all products in a store allocated for a particular product. \n",
    " - `Item_Type` is the product category to that a product belongs.\n",
    " - `Item_MRP` is the maximum retail price (listed price) of a product.  \n",
    " - `Outlet_Identifier` suggests a unique store ID.\n",
    " - `Outlet_Establishment_Year` is the year in which a store was established.\n",
    " - `Outlet_Size is the size` of the store in terms of the ground area covered. \n",
    " - `Outlet_Location_Type` is the type of city in which the store is located in. \n",
    " - `Outlet_Type` suggests whether an outlet belongs to a grocery store or supermarket.\n",
    " - `Item_Outlet_Sales` is the target variable for this dataset which indicates the sales dollar amount of a product in a particular store. \n"
   ]
  },
  {
   "cell_type": "markdown",
   "metadata": {},
   "source": [
    "<hr>"
   ]
  },
  {
   "cell_type": "markdown",
   "metadata": {},
   "source": [
    "## 2. Explore the Data <a id=\"part2.\"></a>"
   ]
  },
  {
   "cell_type": "markdown",
   "metadata": {},
   "source": [
    "### 2.1. Relationship between Outlet Location Type and Outlet Sales <a id=\"part2.1.\"></a>\n",
    "[Back to Top](#top)\n",
    "\n",
    "<img src=\"Pictures for Report/Data Exploration/Total Outlet Sales by Outlet Location Type.png\" width=\"750\" Title = \"Total Outlet Sales by Outlet Location Type\">\n",
    "\n",
    "This is a pie chart showing distribution of total outlet sales by outlet location type, showing in percentages (%). As shown, we can observe that Tier 3 outlet location type contributes to 41.1% of the total outlet sales followed by Tier 2 and Tier 1. From here, we can conclude that outlet location type affects the outlet sales, in which a higher tier is likely to contribute more to the total outlet sales."
   ]
  },
  {
   "cell_type": "markdown",
   "metadata": {},
   "source": [
    "### 2.2. Relationship between Item Type and Item Outlet Sales <a id=\"part2.2.\"></a>\n",
    "[Back to Top](#top)\n",
    "\n",
    "<img src=\"Pictures for Report/Data Exploration/Item Outlet Sales divided by Item Type.png\" width=\"750\" Title = \"Total Item Outlet Sales by Item Type\">\n",
    "\n",
    "This is a tree map showing item outlet sales divided by item type, where the size of each item type represents number of items that are of the same item type and the color of each item represents the average sales for each item type, whereby a darker blue suggests a higher average sales and a lighter blue shows a lower average sales. As shown, `\"Fruits\"` and `\"Vegetables\"` and `\"Snack Foods\"` item type have more items as compared to other item types. However, item type like `\"Starchy Foods\"` has a higher average sales as compared to the rest. From this, we can observe that there are some item types have more items and some item type have a higher average sale despite a low variety of items."
   ]
  },
  {
   "cell_type": "markdown",
   "metadata": {},
   "source": [
    "### 2.3. Relationship between Item Visibility and Item Outlet Sales <a id=\"part2.3.\"></a>\n",
    "[Back to Top](#top)\n",
    "\n",
    "<img src=\"Pictures for Report/Data Exploration/Item Outlet Sales vs. Item Visibility.png\" width=\"750\" Title = \"Total Item Outlet Sales by Item Visibility\">\n",
    "\n",
    "This is a density plot showing item outlet sales against item visibility, where each rectangle represents a certain count of items that falls into the corresponding range, with dark blue having the highest count of 139 and light green having the lowest count of 1. As shown in the density plot, we can observe that there are more items presented at the bottom left of the plot, which is where items are generating lesser than 4000 dollars and have an item visibility of less than 0.06 (6% of display area in a store). This shows that a majority of the items have low visibility and low sales, also despite having a high visibility, it is no guarantee that it will generate a high sales."
   ]
  },
  {
   "cell_type": "markdown",
   "metadata": {},
   "source": [
    "### 2.4. Relationship between Outlet Type & Outlet Identifer and Item Outlet Sales<a id=\"part2.4.\"></a>\n",
    "[Back to Top](#top)\n",
    "\n",
    "<img src=\"Pictures for Report/Data Exploration/Item Outlet Sales by Outlet Type & Outlet Identifer.png\" width=\"800\" Title = \"Item Outlet Sales by Outlet Type & Outlet Identifer\">\n",
    "\n",
    "There are two visuals shown above describing the Item Outlet Sales by Outlet Type & Outlet Identifier. The bar chart (left) shows total outlet sales by outlet type, in which we can observe that Super Market Type1 generates 13M (Million) dollars of sales which is significantly higher than the other outlet types.\n",
    "\n",
    "On the other hand, the tree map shows item outlet sales by outlet type and outlet identifier, whereby a darker color(purple) has a higher total outlet sales generated and the size of each outlet identifier(OUT0XX) represents the number of items in that particular outlet.\n",
    "\n",
    "From here, we can observe that `\"Grocery Store\"` is the outlet type that has the lowest sales generated due to a low number of items available, whereas `\"Supermarket Type1\"` has the highest sales generated due to more outlet identifier and more items available. Thus, we can conclude that outlet sales and outlet type and identifier is proportionally related."
   ]
  },
  {
   "cell_type": "markdown",
   "metadata": {},
   "source": [
    "### 2.5. Relationship between Item Outlet Sales and Outlet Establishment Year <a id=\"part2.5.\"></a>\n",
    "[Back to Top](#top)\n",
    "\n",
    "<img src=\"Pictures for Report/Data Exploration/Item Outlet Sales by Outlet Establishment Year and Number of Outlet Established.png\" width=\"800\" Title = \"Total Item Outlet Sales by Outlet Establishment Year\">\n",
    "\n",
    "This is a dual axis line chart showing the median item outlet sales by outlet establishment year in blue and number of outlets established in the corresponding in year shown on x axis in pink. It is observed that there are extremely low item outlet sales for outlet established in 1998 which could be due to the low number of outlets established in 1998 which suggest in a lesser item outlet occurrence in the dataset resulting in a low median item outlet sales. In addition, we notice that for outlets established in other years have a range of median item outlet sales of $1.6k (k suggest thousands) to $2.2k. In conclusion, we can conclude that the item outlet sales are lower when the outlet is established in year 1988. "
   ]
  },
  {
   "cell_type": "markdown",
   "metadata": {},
   "source": [
    "### 2.6. Relationship between Item Outlet Sales and Item Weight <a id=\"part2.6.\"></a>\n",
    "[Back to Top](#top)\n",
    "<img src=\"Pictures for Report/Data Exploration/Item Outlet Sales by Item Weight.png\" width=\"800\" Title = \"Total Item Outlet Sales by Item Weight\">\n",
    "\n",
    "This is a histogram showing the sum of item outlet sales by item weight. We can observe that there are several ranges of item weight that generate a higher total item outlet sale, 6kg to 8kg, 12kg to 14 kg and 16 kg to 18kg. This few ranges of products generate to a higher total outlet sales as compared to others. Hence, we can infer that items that fall in this range are likely to have a higher item outlet sales to contribute to the total item outlet sales."
   ]
  },
  {
   "cell_type": "markdown",
   "metadata": {},
   "source": [
    "<hr>"
   ]
  },
  {
   "cell_type": "markdown",
   "metadata": {},
   "source": [
    "## 3. Cleanse the Data <a id=\"part3.\"></a>"
   ]
  },
  {
   "cell_type": "markdown",
   "metadata": {},
   "source": [
    "## 3.1. Outliers <a id=\"part3.1.\"></a>\n",
    "[Back to Top](#top)"
   ]
  },
  {
   "cell_type": "markdown",
   "metadata": {},
   "source": [
    "### 3.1.1. Finding outliers <a id=\"part3.1.1.\"></a>\n",
    "[Back to Top](#top)\n",
    "\n",
    "By using user-defined function,` find_boundaries`, which estimate 1.5 times of Interquartile Range (IQR) to calculate the boundaries. In which, this function will return the upper and lower boundary found. Then, we pass in the dataset and variable to find its corresponding upper and lower boundary and values that fall above the upper boundary or below the lower boundary are called outliers. After finding if outliers exist for all of the numerical variables, we then decide which technique to use, \n",
    "\n",
    " - Trimming, removing of outliers found in the dataset.\n",
    " - Capping\n",
    "  - 90% Winsorization which replaces outliers with the value at 5th percentile or 95th percentile, whichever it is closest to.\n",
    "  - Inter-quartile range proximity rule, similar to Winsorization but replace outliers with value at Q1 – 1.5 x IQR or Q3 – 1.5 x IQR, whichever it is closest to.\n",
    "  \n",
    "In this dataset, there are outliers for variable, `Item_Visibility` and `Item_Outlet_Sales`, however as `Item_Outlet_Sales` is the target variable; hence we will not be applying any data transformation to it. \n"
   ]
  },
  {
   "cell_type": "markdown",
   "metadata": {},
   "source": [
    "### 3.1.2. Dealing with Outliers <a id=\"part3.1.2.\"></a> \n",
    "[Back to Top](#top)\n",
    "\n",
    "Graphs shown below are diagnostic plots of Item_Visibility initially. We can observe that all the outliers found on the right tail, hence should we be using winsorisation technique, it will be logical to do it to the right tail only. \n",
    "<img src=\"Pictures for Report/Data Cleansing/Item_Visibility Before.png\" width=\"750\" Title = \"Item_Visibility before techiques applied\">"
   ]
  },
  {
   "cell_type": "markdown",
   "metadata": {},
   "source": [
    "<b>Trimming technique: </b>\n",
    "<img src=\"Pictures for Report/Data Cleansing/Trimming on Item_Visibility PLOTS.png\" width=\"650\" Title = \"Item_Visibility Trimming Plots\"> \n",
    "<img src=\"Pictures for Report/Data Cleansing/Trimming on Item_Visibility SCORE.png\" width=\"250\" Title = \"Item_Visibility Trimming Model Score\">"
   ]
  },
  {
   "cell_type": "markdown",
   "metadata": {},
   "source": [
    "<b>Winsorisation, 95% Quantiles Right: </b>\n",
    "<img src=\"Pictures for Report/Data Cleansing/Winsorisation on Item_Visibility fold(0.05 right) PLOTS.png\" width=\"650\" Title = \"Item_Visibility Winsorisation 95% Quantiles Right \"> \n",
    "<img src=\"Pictures for Report/Data Cleansing/Winsorisation on Item_Visibility fold(0.05 right) SCORE.png\" width=\"250\" Title = \"Item_Visibility Winsorisation 95% Quantiles Right Model Score\">"
   ]
  },
  {
   "cell_type": "markdown",
   "metadata": {},
   "source": [
    "<b>Winsorisation, 1.5 IQR Right: </b>\\\n",
    "<img src=\"Pictures for Report/Data Cleansing/Winsorisation on Item_Visibility fold(1.5 right) PLOTS.png\" width=\"650\" Title = \"Item_Visibility Winsorisation 1.5 IQR Right\"> \n",
    "<img src=\"Pictures for Report/Data Cleansing/Winsorisation on Item_Visibility fold(1.5 right) SCORE.png\" width=\"250\" Title = \"Item_Visibility Winsorisation 1.5 IQR Right Model Score\">"
   ]
  },
  {
   "cell_type": "markdown",
   "metadata": {},
   "source": [
    "Graphs and Model score shown above only differ in the time of techinques used to deal with outliers. After trying out and comparing the different techniques using RMSE & R2 score and diagnostic plots , I found out that trimming best suits the model, with the test RMSE and R2 indicating that that there is better fit and model performance as the test RMSE is the lowest of all techniques used and test R2 being closer to 1 as compared to the rest. "
   ]
  },
  {
   "cell_type": "markdown",
   "metadata": {},
   "source": [
    "## 3.2. Missing Data <a id=\"part3.2.\"></a>\n",
    "[Back to Top](#top)"
   ]
  },
  {
   "cell_type": "markdown",
   "metadata": {},
   "source": [
    "### 3.2.1. Finding Missing Data <a id=\"part3.2.1.\"></a>\n",
    "[Back to Top](#top)\n",
    "\n",
    "As missing data is not permitted by most Machine Learning (ML) models hence we will need to either remove or transform into permitted values to produce a complete dataset that can be train by ML models. Using `data.isnull().mean()` to find the percentage of missing data per variable. `Item_Weight has 17.2%` of missing data and `Outlet_Size has 28.3%`, in which, `Item_Weight` is a numerical variable while `Outlet_Size` is a categorical variable. As there are different types of variables hence, we are going to perform different imputation techniques on different variables. Hence, we are going to use a imputation pipeline to apply different imputation techniques."
   ]
  },
  {
   "cell_type": "markdown",
   "metadata": {},
   "source": [
    "### 3.2.2. Dealing with Missing Data<a id=\"part3.2.2.\"></a>\n",
    "[Back to Top](#top)\n",
    "\n",
    "<b> One of the techniques is to remove all missing data by Complete Case Analysis (CCA): </b>\n",
    "<img src=\"Pictures for Report/Data Cleansing/Removing data dropna().png\" width=\"700\" Title = \"Removing Missing Data\"> \n",
    "<img src=\"Pictures for Report/Data Cleansing/Removing data dropna() SCORE.png\" width=\"250\" Title = \"Removing Missing Data Score\">\n",
    "This means to discard observations where the values in any of the variables are missing, which can be applied to both categorical & numerical data. In this case, we are removing rows that contains missing values in it, which leads to 28.3% of the data being remove. This leads to removal of a large portion of data which eventually leads to a low R2 score of less than 0.5 which suggests that more than 50% of the variability in the outcome of data cannot be explained by the model. Hence, we will not be using CCA."
   ]
  },
  {
   "cell_type": "markdown",
   "metadata": {},
   "source": [
    "<b>Median Imputation for Item_Weight & Frequent Imputation for Outlet_Size:</b>\n",
    "<img src=\"Pictures for Report/Data Cleansing/Imputation (Median_Frequent) CODE.png\" width=\"700\" Title = \"Median and Frequent Imputation\"> \n",
    "<img src=\"Pictures for Report/Data Cleansing/Imputation (Median_Frequent) SCORE.png\" width=\"250\" Title = \"Median and Frequent Imputation Score\">\n",
    "\n",
    "This means that we are replacing missing values of `Item_Weight` with the median value of `Item_Weight` and replace missing values of `Outlet_Size` with the most frequent values of `Outlet_Size`. "
   ]
  },
  {
   "cell_type": "markdown",
   "metadata": {},
   "source": [
    "<b>Mean Imputation for Item_Weight & Missing Imputation for Outlet_Size:</b>\n",
    "<img src=\"Pictures for Report/Data Cleansing/Imputation (Mean_Missing) CODE.png\" width=\"700\" Title = \"Median and Frequent Imputation\">\n",
    "<img src=\"Pictures for Report/Data Cleansing/Imputation (Mean_Missing) SCORE.png\" width=\"250\" Title = \"Median and Frequent Imputation Score\">"
   ]
  },
  {
   "cell_type": "markdown",
   "metadata": {},
   "source": [
    "From the RMSE and R2 test score, we can observe that median imputation for `Item_Weight` and frequent imputation for `Outlet_Size` is better for missing value imputation.\n",
    "\n",
    "We can see that the test RMSE for mean imputation is slightly lower than test RMSE for mean imputation and test R2 for median imputation is closer to 1 than test R2 for mean imputation, this indicates that median imputation has a better fit and model performance. \n",
    "\n",
    "On the other hand, test RMSE for frequent imputation is slightly lower than test RMSE for missing imputation and test R2 for frequent imputation is closer to 1 than test R2 for missing imputation, this indicates that median imputation has a better fit and model performance.\n",
    "\n",
    "In conclusion, we are using median imputation for Item_Weight and Frequent Imputation for Outlet_Size as it has the best fit and model performance as compared to other imputation methods. "
   ]
  },
  {
   "cell_type": "markdown",
   "metadata": {},
   "source": [
    "## 3.3. Sorting Cardinality <a id=\"part3.3.\"></a>\n",
    "[Back to Top](#top)\n",
    "\n",
    "A user defined function, `find_unique_values` to find if there are any values in categorical variables that has similar meaning. The function prints out variable name, its corresponding list of unique values and number of unique values, which can assist in spotting for values with similar meaning especially in categorical variables. It can also allow us to have a overview of the number of unique values in each variable which can help as decide the type of encoding to use in the following steps.\n",
    "\n",
    "<img src=\"Pictures for Report/Data Cleansing/find_unique_values BEFORE.png\" width=\"600\" Title = \"Finding Unqiue Values\">\n",
    "\n",
    "As we can see, some values of `Item_Fat_Content` are duplicated but has similar meaning in it, such as “LF” and “low fat” is the same as “Low Fat”. Also, by knowledge of the dataset, we know that `Item_Fat_Content` we know that values of it is indicating whether product is low fat or not hence we will do mapping to it. As this step was done before missing values imputation, hence we can observe that `Outlet_Size` has “nan” to it but does not count as a unique value. \n",
    "\n",
    "<img src=\"Pictures for Report/Data Cleansing/find_unique_values AFTER.png\" width=\"600\" Title = \"Mapping Unique Values\">"
   ]
  },
  {
   "cell_type": "markdown",
   "metadata": {},
   "source": [
    "<hr>"
   ]
  },
  {
   "cell_type": "markdown",
   "metadata": {},
   "source": [
    "## 4. Data Transformation <a id=\"part4.\"></a>\n",
    "Data is transformed so that it is better-organized and can fit algorithms better as most ML models do not take in strings as values, they only accept numerical values "
   ]
  },
  {
   "cell_type": "markdown",
   "metadata": {},
   "source": [
    "## 4.1. Categorical Data <a id=\"part4.1.\"></a>\n",
    "[Back to Top](#top)\n",
    "\n",
    "There are several methods to encode categorical data, such as <b>Ordinal Encoding</b>, <b>One Hot Encoding</b> and <b>Target Mean Encoding</b>. By using the user-defined function earlier, `find_unique_values`, we can see the number of unique values in each categorical variable. Hence, I have decided to use Ordinal Encoding for those variables that has more unique values, whereas for variables with fewer unique values, we are using one hot encoding as they are going to generate lesser columns as compared to those variables with more unique values. "
   ]
  },
  {
   "cell_type": "markdown",
   "metadata": {},
   "source": [
    "<b>Number of Unique values for categorical variables</b>\n",
    "<blockquote>\n",
    "    \n",
    "Item_Identifier     : \t 1559 \n",
    "    \n",
    "Item_Fat_Content     : \t 2\n",
    "    \n",
    "Item_Type            :   16\n",
    "    \n",
    "Outlet_Identifier    :   10\n",
    "    \n",
    "Outlet_Size          :   3\n",
    "    \n",
    "Outlet_Location_Type :   3\n",
    "    \n",
    "Outlet_Type          :   4\n",
    "    \n",
    "</blockquote>"
   ]
  },
  {
   "cell_type": "markdown",
   "metadata": {},
   "source": [
    "### 4.1.1. Ordinal Encoding <a id=\"part4.1.1.\"></a>\n",
    "[Back to Top](#top)\n",
    "\n",
    "<img src=\"Pictures for Report/Data Transformation/Categorical/Ordinal Encode (ItemType_OutletIdentifier).png\" width=\"500\" Title = \"Ordinal Encoding for Item Type & Outlet Identifer\">\n",
    "<img src=\"Pictures for Report/Data Transformation/Categorical/Ordinal Encode (ItemType_OutletIdentifier) SCORE.png\" width=\"250\" Title = \"Ordinal Encoding for Item Type & Outlet Identifer Score\">\n",
    "\n",
    "As `Item_Type` and `Outlet_Identifer` has 16 and 10 unique values respectively, hence we will using ordinal encoding so that the model can find patterns that relate to the target. Also, as they have too many unique values, it will not be efficient to use one hot encoding for it.    "
   ]
  },
  {
   "cell_type": "markdown",
   "metadata": {},
   "source": [
    "<img src=\"Pictures for Report/Data Transformation/Categorical/Ordinal Encode (ItemType_OutletIdentifier_ItemIdentifier).png\" width=\"700\" Title = \"Ordinal Encoding for Item Identifier\">\n",
    "<img src=\"Pictures for Report/Data Transformation/Categorical/Ordinal Encode (ItemType_OutletIdentifier_ItemIdentifier) ERROR.png\" width=\"500\" Title = \"Error - Ordinal Encoding for Item Identifier\">\n",
    "\n",
    "As there are 1559 unique values in `Item_Identifier`, hence there are insufficient index which leads to NaN (null) values being introduced in the process of encoding, which leads to failure in running the Linear Regression model."
   ]
  },
  {
   "cell_type": "markdown",
   "metadata": {},
   "source": [
    "### 4.1.2. One Hot Encoding <a id=\"part4.1.2.\"></a>\n",
    "[Back to Top](#top)\n",
    "\n",
    "<img src=\"Pictures for Report/Data Transformation/Categorical/One Hot Encode (ItemFatContent_OutletSize_OutletLocationType_OutletType).png\" width=\"650\" Title = \"One Hot Encoding for 4 Numerical Variables\">\n",
    "<img src=\"Pictures for Report/Data Transformation/Categorical/One Hot Encode (ItemFatContent_OutletSize_OutletLocationType_OutletType) SCORE.png\" width=\"250\" Title = \"One Hot Encoding for 4 Numerical Variables Score\">\n",
    "\n",
    "We are doing One Hot Encoding for  `Item_Fat_Content`, `Outlet_Size`, `Outlet_Location_Type` and `Outlet_Type`which has 2,3,3 and 4 unique values respectively. As they have lesser unique values as compared to other numerical variables hence, they one hot encoding is more suitable."
   ]
  },
  {
   "cell_type": "markdown",
   "metadata": {},
   "source": [
    "<img src=\"Pictures for Report/Data Transformation/Categorical/One Hot Encode (ItemFatContent_OutletSize_OutletLocationType_OutletType_ItemType_Outlet_Identifier).png\" width=\"650\" Title = \"One Hot Encoding for 6 Numerical Variables\">\n",
    "<img src=\"Pictures for Report/Data Transformation/Categorical/One Hot Encode (ItemFatContent_OutletSize_OutletLocationType_OutletType_ItemType_Outlet_Identifier) SCORE.png\" width=\"250\" Title = \"One Hot Encoding for 6 Numerical Variables Score\">\n",
    "\n",
    "The picture shown above shows the result of applying `Item_Type` and `Outlet_Identifier` which has 16  and 10 unique values respectively. As shown, a lower test RMSE and a higher R2 was observed. Hence, we will only be applying one hot encoding to `Item_Fat_Content`, `Outlet_Size`,`Outlet_Location_Type` and `Outlet_Type`."
   ]
  },
  {
   "cell_type": "markdown",
   "metadata": {},
   "source": [
    "### 4.1.3. One Hot Encoding for Top Categories<a id=\"part4.1.3.\"></a>\n",
    "[Back to Top](#top)\n",
    "\n",
    "As `Item_Identifier` has 1559 unique values hence Ordinal Encoding and One Hot Encoding are not suitable for it. Thus, we might need to consider dropping the column, however, by dropping a column we might be losing some crucial information. Hence, we need to try one hot encoding to top categories of `Item_Identifier` and compare the result."
   ]
  },
  {
   "cell_type": "markdown",
   "metadata": {},
   "source": [
    "<b> Applying One Hot Encoding to Item Identifier</b>\n",
    "\n",
    "<img src=\"Pictures for Report/Data Transformation/Categorical/Top One Hot Encode (ItemIdentifer).png\" width=\"450\" Title = \"One Hot Encoding for Top Categories\">\n",
    "<img src=\"Pictures for Report/Data Transformation/Categorical/Top One Hot Encode (ItemIdentifer) SCORE.png\" width=\"200\" Title = \"One Hot Encoding for Top Categories Score\">"
   ]
  },
  {
   "cell_type": "markdown",
   "metadata": {},
   "source": [
    "<b> Dropping Column</b>\n",
    "<img src=\"Pictures for Report/Data Transformation/Categorical/Dropping Columns (ItemIdentifier).png\" width=\"450\" Title = \"Dropping Item Identifier\">\n",
    "<img src=\"Pictures for Report/Data Transformation/Categorical/Dropping Columns (ItemIdentifier) SCORE.png\" width=\"250\" Title = \"Dropping Item Identifer Score\">\n",
    "\n",
    "From here, we can see that by dropping the column `Item_Identifier`, it shows a better model performance and fit when we compare the difference in test RMSE and R2 for both techniques. Hence we will not apply one hot encoding to `Item Identifier` and may need to consider dropping the column in Feature Engineering. "
   ]
  },
  {
   "cell_type": "markdown",
   "metadata": {},
   "source": [
    "## 4.2. Numerical Data <a id=\"part4.2.\"></a>\n",
    "[Back to Top](#top)\n",
    "\n",
    "Some ML models assume that numerical variables input are normally distributed. Hence, we need to apply mathematical transformation to change the distribution of data if variables are not. Hence, we will need to perform trail and error, to observe if there are improvement in model performance to know if a transformation was effective or not.\n",
    "<img src=\"Pictures for Report/Data Transformation/Numerical/Distribution of Numerical Data.png\" width=\"500\" Title = \"Distribution of Numerical Variables\">\n",
    "\n",
    "The histograms shown above are to inspect numerical variable distributions. `Item_Weight` shows a Multimodal distribution meaning there are many peaks close together. `Item_Visibility` is a right skewed distribution. `Item_MRP` is a Comb Distribution, whereby bars are alternately tall and short. `Outlet_Establishment_Year` is an even distribution, except for year 1985 being the peak. `Item_Outlet_Sales`, target variable, is a right skewed distribution with most of its sales falling below 5000. From this we can see that `Item_Weight` ,`Item_Visibility`, `Item_MRP` and `Outlet_Establishment_Year` may need transformation. We cannot transform `Item_Outlet_Sales` as it is the target variable."
   ]
  },
  {
   "cell_type": "markdown",
   "metadata": {},
   "source": [
    "### 4.2.1. Item Weight Transformation <a id=\"part4.2.1.\"></a>\n",
    "[Back to Top](#top)\n",
    "\n",
    "<b> Yeo Johnson Transformation </b>\n",
    "<img src=\"Pictures for Report/Data Transformation/Numerical/YeoJohnson ItemWeight CODE.png\" width=\"550\" Title = \"Yeo Johnson Transformation for Item Weight\">\n",
    "<img src=\"Pictures for Report/Data Transformation/Numerical/YeoJohnson ItemWeight SCORE.png\" width=\"250\" Title = \" Score of Yeo Johnson Transformation for Item Weight\">"
   ]
  },
  {
   "cell_type": "markdown",
   "metadata": {},
   "source": [
    "<b> Power (Cube) Transformation </b>\n",
    "<img src=\"Pictures for Report/Data Transformation/Numerical/Cube ItemWeight CODE.png\" width=\"500\" Title = \"Cube Transformation for Item Weight\">\n",
    "<img src=\"Pictures for Report/Data Transformation/Numerical/Cube ItemWeight SCORE.png\" width=\"200\" Title = \" Score of Cube Transformation for Item Weight\">"
   ]
  },
  {
   "cell_type": "markdown",
   "metadata": {},
   "source": [
    "<b> Reciprocal Transformation </b>\n",
    "<img src=\"Pictures for Report/Data Transformation/Numerical/Reciprocal ItemWeight CODE.png\" width=\"500\" Title = \"Reciprocal Transformation for Item Weight\">\n",
    "<img src=\"Pictures for Report/Data Transformation/Numerical/Reciprocal ItemWeight SCORE.png\" width=\"200\" Title = \" Score of Reciprocal Transformation for Item Weight\">\n",
    "After trying multiple transformations, we observed that the transformation that is most suitable for `Item_Weight` is Reciprocal Transformation as it has a lower test RSME and a higher R2 score which indicates a better fit and model performance."
   ]
  },
  {
   "cell_type": "markdown",
   "metadata": {},
   "source": [
    "### 4.2.2. Item Visibility Transformation <a id=\"part4.2.2.\"></a>\n",
    "[Back to Top](#top)\n",
    "\n",
    "<b> Before Transformation</b>\n",
    "<img src=\"Pictures for Report/Data Transformation/Numerical/ItemVisibility BEFORE PLOT.png\" width=\"650\" Title = \"Diagnostic Plots for Item Visibility\">"
   ]
  },
  {
   "cell_type": "markdown",
   "metadata": {},
   "source": [
    "<b> Log Transformation </b>\n",
    "<img src=\"Pictures for Report/Data Transformation/Numerical/ItemVisibility AFTER Log PLOT.png\" width=\"600\" Title = \"Diagnostic Plots for Log Item Visibility\">\n",
    "<img src=\"Pictures for Report/Data Transformation/Numerical/Log +1 ItemVisibility CODE.png\" width=\"450\" Title = \"Log Transformation for Item Visibility\">\n",
    "<img src=\"Pictures for Report/Data Transformation/Numerical/Log +1 ItemVisibility SCORE.png\" width=\"250\" Title = \" Score of Log Transformation for Item Visibility\">\n",
    "\\begin{equation}\n",
    "X_t = \\log(X +1)\n",
    "\\end{equation}\n",
    "\n",
    "As some values `Item_Visibility` are not positive, minimum value of it appears to be 0, hence we will need to add 1 to it before we can apply Log transformation."
   ]
  },
  {
   "cell_type": "markdown",
   "metadata": {},
   "source": [
    "<b> Box Cox Transformation </b>\n",
    "<img src=\"Pictures for Report/Data Transformation/Numerical/ItemVisibility AFTER BoxCox PLOT.png\" width=\"600\" Title = \"Diagnostic Plots for Box Cox Item Visibility\">\n",
    "<img src=\"Pictures for Report/Data Transformation/Numerical/BoxCox +1 ItemVisibility CODE.png\" width=\"450\" Title = \"Box Cox Transformation for Item Visibility\">\n",
    "<img src=\"Pictures for Report/Data Transformation/Numerical/BoxCox +1 ItemVisibility SCORE.png\" width=\"250\" Title = \" Score of Box Cox Transformation for Item Visibility\">\n",
    "\\begin{equation}\n",
    "X_t = \n",
    "\\begin{cases}\n",
    "  (X^{\\lambda} -1) / {\\lambda} & \\text{if } \\lambda \\neq 0 \\\\    \n",
    "  \\log(X)  & \\text{if } \\lambda =0\n",
    "\\end{cases}\n",
    "\\end{equation}\n",
    "\n",
    "Similarly, to Log transformation, Box Cox transformation only accepts positive values, hence we need to add 1 to the data before performing Box Cox transformation.\n",
    "\n",
    "After trying multiple transformations, we observed that the transformation that is most suitable for `Item_Visibility` is Log Transformation as it has a lower test RSME and a higher R2 score which indicates a better fit and model performance."
   ]
  },
  {
   "cell_type": "markdown",
   "metadata": {},
   "source": [
    "### 4.2.3. Item MRP Transformation <a id=\"part4.2.3.\"></a>\n",
    "[Back to Top](#top)\n",
    "\n",
    "<b> Before Transformation</b>\n",
    "<img src=\"Pictures for Report/Data Transformation/Numerical/ItemMRP BEFORE PLOT.png\" width=\"650\" Title = \"Diagnostic Plots for Item MRP\">"
   ]
  },
  {
   "cell_type": "markdown",
   "metadata": {},
   "source": [
    "<b> Power (Square) Transformation </b>\n",
    "<img src=\"Pictures for Report/Data Transformation/Numerical/ItemMRP AFTER Square PLOT.png\" width=\"650\" Title = \"Diagnostic Plots for Item MRP\">\n",
    "<img src=\"Pictures for Report/Data Transformation/Numerical/Square ItemMRP CODE.png\" width=\"500\" Title = \"Square Transformation for Item Weight\">\n",
    "<img src=\"Pictures for Report/Data Transformation/Numerical/Square ItemMRP SCORE.png\" width=\"200\" Title = \" Score of Square Transformation for Item Weight\">\n",
    "\\begin{equation}\n",
    "X_t = X^{0.5} \n",
    "\\end{equation}"
   ]
  },
  {
   "cell_type": "markdown",
   "metadata": {},
   "source": [
    "<b> YeoJohnson Transformation </b>\n",
    "<img src=\"Pictures for Report/Data Transformation/Numerical/ItemMRP AFTER YeoJohnson PLOT.png\" width=\"650\" Title = \"Diagnostic Plots for Item MRP\">\n",
    "<img src=\"Pictures for Report/Data Transformation/Numerical/YeoJohnson ItemMRP CODE.png\" width=\"400\" Title = \"Square Transformation for Item Weight\">\n",
    "<img src=\"Pictures for Report/Data Transformation/Numerical/YeoJohnson ItemMRP SCORE.png\" width=\"200\" Title = \" Score of Square Transformation for Item Weight\">\n",
    "\n",
    "After trying multiple transformations, we observed that the transformation that is most suitable for `Item_MRP ` is YeoJohnson Transformation as it has a lower test RSME and a higher R2 which indicates a better fit and model performance. In addition, Q-Q plot for it follows the red line better which suggest that it is closer to a normal distribution. "
   ]
  },
  {
   "cell_type": "markdown",
   "metadata": {},
   "source": [
    "### 4.2.4. Outlet Establishment Year Binning  <a id=\"part4.2.4.\"></a>\n",
    "[Back to Top](#top)\n",
    "\n",
    "In Binning, we are trying to transform continuous variables into discrete variables by creating a set of contiguous intervals so that we change the distribution of skewed variables and improve the performance of some ML models. As we are unable to transform Outlet Establishment Year due to the wide spread of data values, we will be binning it. \n",
    "\n",
    "<b> Before Binning</b>\n",
    " <img src=\"Pictures for Report/Data Transformation/Numerical/OutletEstablishmentYear BEFORE PLOT.png\" width=\"400\" Title = \"Histogram of Outlet Establishment Year\">"
   ]
  },
  {
   "cell_type": "markdown",
   "metadata": {},
   "source": [
    "<b> Equal Width Binning</b>\n",
    " <img src=\"Pictures for Report/Data Transformation/Numerical/EqualWidth OutletEstablishmentYear CODE.png\" width=\"550\" Title = \"Equal Width Binning for Outlet Establishment Year\">\n",
    " <img src=\"Pictures for Report/Data Transformation/Numerical/EqualWidth OutletEstablishmentYear SCORE.png\" width=\"250\" Title = \"Equal Width Binning for Outlet Establishment Year Score\">"
   ]
  },
  {
   "cell_type": "markdown",
   "metadata": {},
   "source": [
    "<b> Equal Frequency Binning</b>\n",
    " <img src=\"Pictures for Report/Data Transformation/Numerical/EqualFreq OutletEstablishmentYear CODE.png\" width=\"600\" Title = \"Equal Frequency Binning for Outlet Establishment Year\">\n",
    " <img src=\"Pictures for Report/Data Transformation/Numerical/EqualFreq OutletEstablishmentYear SCORE.png\" width=\"250\" Title = \"Equal Frequency Binning for Outlet Establishment Year Score\">\n",
    " \n",
    " After trying out Equal Width and Equal Frequency binning, I observe that Equal Frequency binning is more suitable for `Outlet_Establishment_Year` as it was observed that there is a lower test RSME and a higher R2 indicating a better fit and model performance by 2.3283064365386963e-10 and 1.1102230246251565e-16 respectively. \n",
    " \n",
    " "
   ]
  },
  {
   "cell_type": "markdown",
   "metadata": {},
   "source": [
    "### 4.2.5. Item Weight Binning  <a id=\"part4.2.5.\"></a>\n",
    "[Back to Top](#top)\n",
    "\n",
    "<b> Equal Frequency Binning</b>\n",
    " <img src=\"Pictures for Report/Data Transformation/Numerical/EqualFreq Item Weight CODE.png\" width=\"550\" Title = \"Equal Frequency Binning for Item Weight\">\n",
    "  <img src=\"Pictures for Report/Data Transformation/Numerical/EqualFreq Item Weight SCORE.png\" width=\"250\" Title = \"Equal Frequency Binning for Item Weight Score\">"
   ]
  },
  {
   "cell_type": "markdown",
   "metadata": {},
   "source": [
    "<b> Equal Width Binning</b>\n",
    " <img src=\"Pictures for Report/Data Transformation/Numerical/EqualWidth Item Weight CODE.png\" width=\"550\" Title = \"Equal Width Binning for Item Weight\">\n",
    "  <img src=\"Pictures for Report/Data Transformation/Numerical/EqualWidth Item Weight SCORE.png\" width=\"250\" Title = \"Equal Width Binning for Item Weight Score\">\n",
    "  \n",
    "After trying out Equal Width and Equal Frequency binning, I observe that Equal Width binning is more suitable for `Item Weight` as it was observed that there is a lower test RSME and a higher R2 indicating a better fit and model performance by -1111.3626800558995 and 0.0004020350400374406 respectively. "
   ]
  },
  {
   "cell_type": "markdown",
   "metadata": {},
   "source": [
    "## 5. Feature Engineer <a id=\"part5.\"></a>"
   ]
  },
  {
   "cell_type": "markdown",
   "metadata": {},
   "source": [
    "## 5.1. Feature Scaling <a id=\"part5.1.\"></a>\n",
    "[Back to Top](#top)\n",
    "\n",
    "Feature Scaling helps by making features to similar scale so that it helps algorithms converge faster and hence improving performance. As features with bigger value ranges tend to dominate over features with smaller ranges."
   ]
  },
  {
   "cell_type": "markdown",
   "metadata": {},
   "source": [
    "<b> MinMax Scaling</b>\n",
    "<img src=\"Pictures for Report/Feature Engineer/MinMax Scaler CODE.png\" width=\"550\" Title = \"MinMax Scaling\">\n",
    "<img src=\"Pictures for Report/Feature Engineer/MinMax Scaler SCORE.png\" width=\"250\" Title = \"MinMax Scaling Score\">"
   ]
  },
  {
   "cell_type": "markdown",
   "metadata": {},
   "source": [
    "<b> Robust Scaling</b>\n",
    "<img src=\"Pictures for Report/Feature Engineer/Robust Scaler CODE.png\" width=\"550\" Title = \"Robust Scaling\">\n",
    "<img src=\"Pictures for Report/Feature Engineer/Robust Scaler SCORE.png\" width=\"250\" Title = \"Robust Scaling Score\">"
   ]
  },
  {
   "cell_type": "markdown",
   "metadata": {},
   "source": [
    "<b> Standard Scaling</b>\n",
    "<img src=\"Pictures for Report/Feature Engineer/Standard Scaler CODE.png\" width=\"550\" Title = \"Standard Scaling\">\n",
    "<img src=\"Pictures for Report/Feature Engineer/Standard Scaler SCORE.png\" width=\"250\" Title = \"Standard Scaling Score\">\n",
    "\n",
    "As we compare the three scaling, we observe that the result does not differ much in terms of test RMSE and R2. With MinMax scaling and Robust scaling have the same test RMSE and R2 score and Standard scaling having a slightly lower test RMSE and higher R2 of -271.5661521642469 and -9.823895548888295e-05 respectively. Thus, indicating that Standard scaling provides a better fit and model performance. "
   ]
  },
  {
   "cell_type": "markdown",
   "metadata": {},
   "source": [
    "## 5.2. Create new features / Drop features <a id=\"part5.2.\"></a>\n",
    "[Back to Top](#top)\n",
    "\n",
    "Some features may not be well explained on its own, hence we may need to use some domain knowledge of the dataset and through mathematical or statistical operation to create new features to better explain parts of the data. An alternative way to deal with features that explains a very low percentage of data is to drop features. In this way, we may be able top increase the speed and efficiency of model training, while not giving up much in coverage of the dataset. "
   ]
  },
  {
   "cell_type": "markdown",
   "metadata": {},
   "source": [
    "### 5.2.1. Principal Component Analysis (PCA)  <a id=\"part5.2.1.\"></a>\n",
    "[Back to Top](#top)\n",
    "\n",
    "<img src=\"Pictures for Report/Feature Engineer/PCA 23 Features CODE.png\" width=\"450\" Title = \"23 Features PCA\">\n",
    "<img src=\"Pictures for Report/Feature Engineer/PCA 23 Features PLOT.png\" width=\"350\" Title = \"23 Features PCA Plot\">\n",
    "<img src=\"Pictures for Report/Feature Engineer/PCA 23 Features SCORE.png\" width=\"250\" Title = \"23 Features PCA Score\">\n",
    "\n",
    "The pictures above show the number of features and its corresponding explained variance ratio, RMSE and R2 scores and plot. As observed, we can see that the last 4 features of the PCA explained little to the dataset, hence we can try to remove the last 4 features to see if it helps to improve the model. "
   ]
  },
  {
   "cell_type": "markdown",
   "metadata": {},
   "source": [
    "<img src=\"Pictures for Report/Feature Engineer/PCA 19 Features CODE.png\" width=\"450\" Title = \"19 Features PCA\">\n",
    "<img src=\"Pictures for Report/Feature Engineer/PCA 19 Features PLOT.png\" width=\"350\" Title = \"19 Features PCA Plot\">\n",
    "<img src=\"Pictures for Report/Feature Engineer/PCA 19 Features SCORE.png\" width=\"250\" Title = \"19 Features PCA Score\">\n",
    "As shown above, after reducing the number of features to 19 (remove last 4 features), there is a slight increase in the test RSME and slight decrease in test R2 which indicates that it is not of a better fit as compared to keeping all features. In addition, this means that the reduction of features in this case has reduce the performance of the model. Hence, after comparing the result and impact of reduction of features, I have decided not to remove any features, as they have been properly transformed, discretized and scaled, ready to pass into the model."
   ]
  },
  {
   "cell_type": "markdown",
   "metadata": {},
   "source": [
    "## 6. Linear Regression Model <a id=\"part6.\"></a>\n",
    "[Back to Top](#top)"
   ]
  },
  {
   "cell_type": "markdown",
   "metadata": {},
   "source": [
    "## 6.1. Build and Evaluate the model <a id=\"part6.1.\"></a>\n",
    "[Back to Top](#top)\n",
    "\n",
    "<img src=\"Pictures for Report/Linear Regression Model/Changing Array to Dataframe.png\" width=\"800\" Title = \"Array to Dataframe\">\n",
    "<b> Shape of Train and Test Data before Wrangle</b>\n",
    "<img src=\"Pictures for Report/Linear Regression Model/Shape of data before wrangle.png\" width=\"300\" Title = \"Shape of Training and Test Dataframe\">\n",
    "<b> Shape of Train and Test Data after Wrangle</b>\n",
    "<img src=\"Pictures for Report/Linear Regression Model/Shape of data after wrangle.png\" width=\"350\" Title = \"Shape of Training and Test Dataframe\">\n",
    "\n",
    "After exploration of data, cleansing data which includes missing data imputation, finding and dealing with outliers, data transformation on categorial data such as ordinal encoding and one hot encoding, data transformation on numerical data including different method such as Logarithm, Reciprocal and Box-Cox. Feature Engineer, feature scaling to minimise ranges between variables and creating or dropping of features. We conclude all the wrangling technique stated above and store them as `X_train_scaled` for training data and `X_test_scaled` for test data. After scaling this variables are array, hence we will need top change them to dataframe which will be passed into the model later on. \n",
    "\n",
    "We can see that the shape of training and test data now has become large, with more columns included due to data transformation like categorical encoding.\n"
   ]
  },
  {
   "cell_type": "markdown",
   "metadata": {},
   "source": [
    "<b> Assign Cleaned and Transformed data</b>\n",
    "<img src=\"Pictures for Report/Linear Regression Model/Assignation of Cleaned and Transformed data.png\" width=\"550\" Title = \"Shape of Training and Test Dataframe\">\n",
    "\n",
    "Assigning of cleaned and transformed data to `X_train_final`, `X_test_final`, `y_train_final` and `y_test_final`. "
   ]
  },
  {
   "cell_type": "markdown",
   "metadata": {},
   "source": [
    "<b>Building Linear Regression Model and evaluating with RMSE & R2</b>\n",
    "<img src=\"Pictures for Report/Linear Regression Model/Building LR Model.png\" width=\"750\" Title = \"Building LR Model\">\n",
    "\n",
    "We import the libraries need to build a Linear Regression Model from scikit learn. We will then evaluate the model performance of a linear regression model using two measures, `Root Mean Square (RMSE)` which suggest the square root of the variance of residual, difference between an observed value of response variable and value of response variable predicted from regression line and `R-Square (R2)`, the squared difference between prediction and actual observations. In which, a lower RMSE indicates better fit and model performance and a value of R2 closer to 1.0 indicates better fit and model performance. Hence, we will need to focus on result of test RMSE and R2. \n",
    "\n",
    "[Reference to Residual (in linear regression)](https://nzmaths.co.nz/category/glossary/residual-linear-regression#:~:text=The%20difference%20between%20an%20observed,predicted%20from%20the%20regression%20line.)"
   ]
  },
  {
   "cell_type": "markdown",
   "metadata": {},
   "source": [
    "The final result of the Linear Regression Model is shown below: \n",
    "<blockquote>\n",
    "    \n",
    "train_rmse: 1321583.9470480096 \n",
    "\n",
    " test_rmse: 1203156.5905604237\n",
    " \n",
    "train_r-sq: 0.5536181114535421 \n",
    "\n",
    " test_r-sq: 0.5647585466583145\n",
    "</blockquote>"
   ]
  },
  {
   "cell_type": "markdown",
   "metadata": {},
   "source": [
    "## 7. Summary and Further Improvements <a id=\"part7.\"></a>\n",
    "[Back to Top](#top)"
   ]
  },
  {
   "cell_type": "markdown",
   "metadata": {},
   "source": [
    "## 7.1. Summarize findings <a id=\"part7.1.\"></a>\n",
    "[Back to Top](#top)\n",
    "\n",
    "In summary, we have wrangled the dataset by performing data transformation, data cleansing and scaling which is passed into a Linear Regression Model which we will evaluate it using RMSE and R2. These two values are 1.203M (1203156.5905604237) and 0.5647 (0.5647585466583145) for `RMSE` and `R2` respectively. `RMSE` is related to the prediction of target variable of the dataset, which is normally measured in thousands while a good `R2` value range from 0.6 to 0.9, in which greater than 0.5 are considered acceptable. Hence, we can conclude that this wrangled data is considered decent as it has a value of 0.5 and above for R2 however, it can be further improved."
   ]
  },
  {
   "cell_type": "markdown",
   "metadata": {},
   "source": [
    "## 7.2. Explain possible further improvements <a id=\"part7.2.\"></a>\n",
    "[Back to Top](#top)\n",
    "\n",
    "Possible improvements are to increase the number of records, as some of the variables with wide range of values are difficult to transform them to be as close to being normally distributed. With an increase in the number of records, variables may be right skewed or left skewed which we are able to transform it to normally distributed easily as compared to distribution lime `Outlet_Establishmen_Year` which has an odd distribution which makes data transformation difficult. \n",
    "\n",
    "Another possible improvement to increase the model performance is removing the outliers of the target variable, as there are a small number of outliers as compared to the total number of records. These outliers are considered as the top selling products for the supermarket which should be noticed at data exploration stage. However, when predicting item outlet sales by products, we can exclude these top selling products so that it makes a stronger correlation between variables.\n"
   ]
  },
  {
   "cell_type": "markdown",
   "metadata": {},
   "source": [
    "~ End of Report ~"
   ]
  }
 ],
 "metadata": {
  "kernelspec": {
   "display_name": "Python 3 (ipykernel)",
   "language": "python",
   "name": "python3"
  },
  "language_info": {
   "codemirror_mode": {
    "name": "ipython",
    "version": 3
   },
   "file_extension": ".py",
   "mimetype": "text/x-python",
   "name": "python",
   "nbconvert_exporter": "python",
   "pygments_lexer": "ipython3",
   "version": "3.9.7"
  },
  "vscode": {
   "interpreter": {
    "hash": "178463c99db946ec01aa2e87bc920ff25189ef1df1c39da191bf6caeb9db1442"
   }
  }
 },
 "nbformat": 4,
 "nbformat_minor": 4
}
